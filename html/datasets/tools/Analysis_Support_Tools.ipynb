{
 "cells": [
  {
   "cell_type": "markdown",
   "id": "26db304e-871a-4160-96b2-55c06de6c393",
   "metadata": {},
   "source": [
    "# Analysis Support Tools\n",
    "\n",
    "This section contains pages with Python code that can be used to support the analysis and selection of climate datasets for applications in the electricity sector."
   ]
  },
  {
   "cell_type": "code",
   "execution_count": null,
   "id": "83bf9f69-0842-4fcd-864f-82735c692868",
   "metadata": {},
   "outputs": [],
   "source": []
  }
 ],
 "metadata": {
  "kernelspec": {
   "display_name": "Python 3 (ipykernel)",
   "language": "python",
   "name": "python3"
  },
  "language_info": {
   "codemirror_mode": {
    "name": "ipython",
    "version": 3
   },
   "file_extension": ".py",
   "mimetype": "text/x-python",
   "name": "python",
   "nbconvert_exporter": "python",
   "pygments_lexer": "ipython3",
   "version": "3.10.13"
  }
 },
 "nbformat": 4,
 "nbformat_minor": 5
}
