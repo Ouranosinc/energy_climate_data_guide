{
 "cells": [
  {
   "cell_type": "markdown",
   "id": "a9481137-0bbe-4bb2-bbe5-549c01d37d49",
   "metadata": {},
   "source": [
    "# Innovation Investments\n",
    "\n",
    "## Description\n",
    "Use projections to support decision making on geographic needs for non-wire solution, microgrid, BESS, demand management."
   ]
  },
  {
   "cell_type": "code",
   "execution_count": null,
   "id": "e688c6c7-25a7-41f8-a793-71e0eb35f4c3",
   "metadata": {},
   "outputs": [],
   "source": []
  }
 ],
 "metadata": {
  "kernelspec": {
   "display_name": "Python 3 (ipykernel)",
   "language": "python",
   "name": "python3"
  },
  "language_info": {
   "codemirror_mode": {
    "name": "ipython",
    "version": 3
   },
   "file_extension": ".py",
   "mimetype": "text/x-python",
   "name": "python",
   "nbconvert_exporter": "python",
   "pygments_lexer": "ipython3",
   "version": "3.10.13"
  }
 },
 "nbformat": 4,
 "nbformat_minor": 5
}
