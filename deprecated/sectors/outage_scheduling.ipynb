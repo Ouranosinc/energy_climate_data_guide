{
 "cells": [
  {
   "cell_type": "markdown",
   "id": "536072f1-13b6-4181-b70f-b61d6b21a569",
   "metadata": {},
   "source": [
    "# Outage Scheduling\n",
    "\n",
    "## Description\n",
    "Considerations for outage scheduling constraints due to predominately temperatures related events."
   ]
  },
  {
   "cell_type": "code",
   "execution_count": null,
   "id": "c6cdbeab-4c8e-451e-99c0-735e8500f0ff",
   "metadata": {},
   "outputs": [],
   "source": []
  }
 ],
 "metadata": {
  "kernelspec": {
   "display_name": "Python 3 (ipykernel)",
   "language": "python",
   "name": "python3"
  },
  "language_info": {
   "codemirror_mode": {
    "name": "ipython",
    "version": 3
   },
   "file_extension": ".py",
   "mimetype": "text/x-python",
   "name": "python",
   "nbconvert_exporter": "python",
   "pygments_lexer": "ipython3",
   "version": "3.10.13"
  }
 },
 "nbformat": 4,
 "nbformat_minor": 5
}
