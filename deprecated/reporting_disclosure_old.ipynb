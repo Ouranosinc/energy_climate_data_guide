{
 "cells": [
  {
   "attachments": {},
   "cell_type": "markdown",
   "id": "c8533d0f-f7a6-4ec8-9914-96ef5f1a2058",
   "metadata": {},
   "source": [
    "# Overview of Assurance, Reporting and Disclosures\n",
    "::: {.callout-warning title=\"Note\"}\n",
    "\n",
    "\n",
    ":::\n",
    "\n",
    "## Summary of the Assurance\n",
    "* Outage Scheduling\n",
    "* ...\n",
    "## Financial Reporting and Disclosures\n",
    "\n",
    "\n"
   ]
  },
  {
   "cell_type": "code",
   "execution_count": null,
   "id": "cee2d7c2-95e5-4b37-b58e-878e9da43b3c",
   "metadata": {},
   "outputs": [],
   "source": []
  }
 ],
 "metadata": {
  "kernelspec": {
   "display_name": "base",
   "language": "python",
   "name": "python3"
  },
  "language_info": {
   "codemirror_mode": {
    "name": "ipython",
    "version": 3
   },
   "file_extension": ".py",
   "mimetype": "text/x-python",
   "name": "python",
   "nbconvert_exporter": "python",
   "pygments_lexer": "ipython3",
   "version": "3.9.13"
  }
 },
 "nbformat": 4,
 "nbformat_minor": 5
}
