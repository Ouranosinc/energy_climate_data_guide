{
 "cells": [
  {
   "cell_type": "markdown",
   "id": "64a78dd6",
   "metadata": {},
   "source": [
    "---\n",
    "title: Demand\n",
    "author: Jongho Keum\n",
    "date: 2025-04-01\n",
    "format: html\n",
    "---"
   ]
  },
  {
   "cell_type": "markdown",
   "id": "97395d1d-b386-4fe1-a7ef-1d6db174c894",
   "metadata": {},
   "source": [
    "\n",
    "Electricity demand is a vital component in the planning, operation, and resilience of power systems. Climate change is expected to alter electricity demand patterns by affecting not only patterns of temperature, such as mean temperature, number of temperature extremes, and seasonal variations, but also consumption behaviours across different sectors. Numerous studies project increased cooling demand during hotter summers and reduced heating demand during milder winters as this pattern have been consistently observed across multiple global regions ( @Amonkar2023, @Auffhammer2011, @Pilli-Sihvola2010, @Trotter2016, @Wood2015). The magnitude and direction of these changes are strongly dependent on the region and latitude; for example, countries in warmer climates are expected to see higher overall demand growth due to increased cooling loads (@Bonkaney2023, @Emodi2018, @Zachariadis2014). Climate change also affects electricity consumption by sector and temporal demand profiles, including daily and seasonal variations. The residential, commercial, and industrial sectors respond differently to climate drivers ( @Dirks2015, @Shaik2024, @Taseska2012). Meanwhile, the timing of electricity demand is shifting as well, with studies projecting changes in peak load hours and seasonal peaks due to rising temperatures and more frequent extreme heat events ( @Amonkar2023, @Fonseca2019, @Romitti2022). \n",
    "\n",
    "To assess the impacts of climate change on electricity demand, different approaches have been employed. These include the use of climate projections from GCM and RCM combined with downscaling techniques to capture local climatic variability ( @Auffhammer2017, @Auffhammer2011, @Fonseca2019, @Lipson2019, @Trotter2016). Empirical models, such as regression-bases analyses, have been also used to estimate historical relationships between temperature and electricity use ( @Bonkaney2023, @Emodi2018, @Pilli-Sihvola2010) , while simulation tools and energy-climate models are applied to explore future scenarios under different socio-economic and climatic conditions ( @Dirks2015, @Lipson2019, @Taseska2012).\n"
   ]
  },
  {
   "cell_type": "markdown",
   "id": "acdbc6d1",
   "metadata": {},
   "source": [
    "## Climate change drivers and affected electricity demand parameters\n",
    "### Seasonal variations\n",
    "Rising temperatures due to climate change have led to a significant increase in electricity demand for cooling, particularly during summer months. This trend is robust across geographic and socioeconomic contexts. @Auffhammer2017 showed that US electricity demand shows a strong nonlinear response to high temperatures, especially above 25-30 degC, with air conditioning being the primary driver. @DeCian2019 also confirmed this global trend that there are steep increses in demand where air conditioning is rising due to climate change. Regional case studies, such as @Craig2020, have demonstrated that peak demand coincides more frequently with extreme heat days, stressing both power generation and distribution infrastructure. The anticipated rise in the frequency, intensity, and duration of heatwaves further amplifies this concerns, requiring investments in peak capacity, demand-side management, and adaptation strategies.\n",
    "\n",
    "However, while winters are projected to be warmer, the demand responses vary. @Romitti2022 categorized demand response profiles into: \"V\"-shaped response which is common in mid-latitude temperated cities, such as North America and Europe where demand increases at both high and low temperatures; increasing response where demand rises steadily with temperature, which can be shown in tropical cities; and unresponsive profile where minimal or no correlation between temperature and electricity demand.\n",
    "\n",
    "In contrast, warmer winters are projected, which result in reduced electricity demand for heating, although the magnitude of this effect may vary by region and heating technology.\n",
    "\n",
    "- Regional variations: by continents, by latitudes\n",
    "- Demand parameters\n",
    "    - Annual demand: generation capacity and/or storage capacity\n",
    "    - Size and timing of peak demand: maintenance and construction schedule, supply planning\n",
    "    - Spatial distribution of demand: topology and capacity of the electricity transmission networks.\n",
    "    - Sectors: ability to adapt or respond to climate change\n"
   ]
  },
  {
   "cell_type": "markdown",
   "id": "6525e0ad",
   "metadata": {},
   "source": [
    "\n",
    "## Sectoral variations in demand\n",
    "- Differences in demand patterns by sectors, such as residential, industrial, and commercial.\n",
    "- Seasonal and hourly variations in demand and how these might evolve under climate change\n"
   ]
  },
  {
   "cell_type": "markdown",
   "id": "b40ea2c9",
   "metadata": {},
   "source": [
    "\n",
    "## Methodologies for assessing climate change impacts\n",
    "- Climate data: GCMs, RCMs\n",
    "- Downscaling method: dynamic, statistical\n",
    "- Empirical methods: regression analysis\n",
    "- Simulation models: energy-climate models\n"
   ]
  },
  {
   "cell_type": "markdown",
   "id": "f0c7023f",
   "metadata": {},
   "source": [
    "\n",
    "## Adaptation strategies\n",
    "- How to adapt changing demand patterns caused by climate change.\n",
    "- Demand-side management, energy efficiency measures, grid flexibility.\n",
    "\n"
   ]
  },
  {
   "cell_type": "markdown",
   "id": "bea3fb6d",
   "metadata": {},
   "source": [
    "\n",
    "## References\n",
    "- Amonkar, Y., Doss-Gollin, J., Farnham, D. J., Modi, V., & Lall, U. (2023). Differential effects of climate change on average and peak demand for heating and cooling across the contiguous USA. Communications Earth and Environment, 4(1), 1–9. https://doi.org/10.1038/s43247-023-01048-1\n",
    "- Auffhammer, M., & Aroonruengsawat, A. (2011). Simulating the impacts of climate change, prices and population on California’s residential electricity consumption. Climatic Change, 109(SUPPL. 1), 191–210. https://doi.org/10.1007/s10584-011-0299-y\n",
    "- Auffhammer, M., Baylis, P., & Hausman, C. H. (2017). Climate change is projected to have severe impacts on the frequency and intensity of peak electricity demand across the United States. Proceedings of the National Academy of Sciences of the United States of America, 114(8), 1886–1891. https://doi.org/10.1073/pnas.1613193114\n",
    "- Bonkaney, A. L., Abiodun, B. J., Sanda, I. S., & Balogun, A. A. (2023). Potential impact of global warming on electricity demand in Niger. Climatic Change, 176(4). https://doi.org/10.1007/s10584-023-03513-4\n",
    "- Dirks, J. A., Gorrissen, W. J., Hathaway, J. H., Skorski, D. C., Scott, M. J., Pulsipher, T. C., Huang, M., Liu, Y., & Rice, J. S. (2015). Impacts of climate change on energy consumption and peak demand in buildings: A detailed regional approach. Energy, 79(C), 20–32. https://doi.org/10.1016/j.energy.2014.08.081\n",
    "- Emodi, N. V., Chaiechi, T., & Alam Beg, A. B. M. R. (2018). The impact of climate change on electricity demand in Australia. Energy and Environment, 29(7), 1263–1297. https://doi.org/10.1177/0958305X18776538\n",
    "- Fonseca, F. R., Jaramillo, P., Bergés, M., & Severnini, E. (2019). Seasonal effects of climate change on intra-day electricity demand patterns. Climatic Change, 154(3–4), 435–451. https://doi.org/10.1007/s10584-019-02413-w\n",
    "- Lipson, M. J., Thatcher, M., Hart, M. A., & Pitman, A. (2019). Climate change impact on energy demand in building-urban-atmosphere simulations through the 21st century. Environmental Research Letters, 14(12). https://doi.org/10.1088/1748-9326/ab5aa5\n",
    "- Pilli-Sihvola, K., Aatola, P., Ollikainen, M., & Tuomenvirta, H. (2010). Climate change and electricity consumption-Witnessing increasing or decreasing use and costs? Energy Policy, 38(5), 2409–2419. https://doi.org/10.1016/j.enpol.2009.12.033\n",
    "- Romitti, Y., & Wing, I. S. (2022). Heterogeneous climate change impacts on electricity demand in world cities circa mid-century. Scientific Reports, 12(1). https://doi.org/10.1038/s41598-022-07922-w\n",
    "- Shaik, S. (2024). Contribution of climate change to sector-source energy demand. Energy, 294(January), 130777. https://doi.org/10.1016/j.energy.2024.130777\n",
    "- Taseska, V., Markovska, N., & Callaway, J. M. (2012). Evaluation of climate change impacts on energy demand. Energy, 48(1), 88–95. https://doi.org/10.1016/j.energy.2012.06.053\n",
    "- Trotter, I. M., Bolkesjø, T. F., Féres, J. G., & Hollanda, L. (2016). Climate change and electricity demand in Brazil: A stochastic approach. Energy, 102, 596–604. https://doi.org/10.1016/j.energy.2016.02.120\n",
    "- Wood, F. R., Calverley, D., Glynn, S., Mander, S., Conor, W., Kuriakose, J., Hill, F., & Roeder, M. (2015). The impacts of climate change on UK energy demand. Infrastructure Asset Management, 2(3), 107–119. https://doi.org/10.1680/jinam.14.00039\n",
    "- Zachariadis, T., & Hadjinicolaou, P. (2014). The effect of climate change on electricity needs - A case study from Mediterranean Europe. Energy, 76, 899–910. https://doi.org/10.1016/j.energy.2014.09.001\n",
    "\n"
   ]
  }
 ],
 "metadata": {
  "kernelspec": {
   "display_name": "Python 3",
   "language": "python",
   "name": "python3"
  },
  "language_info": {
   "codemirror_mode": {
    "name": "ipython",
    "version": 3
   },
   "file_extension": ".py",
   "mimetype": "text/x-python",
   "name": "python",
   "nbconvert_exporter": "python",
   "pygments_lexer": "ipython3",
   "version": "3.12.3"
  }
 },
 "nbformat": 4,
 "nbformat_minor": 5
}
