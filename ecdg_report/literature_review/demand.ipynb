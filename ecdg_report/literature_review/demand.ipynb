{
 "cells": [
  {
   "cell_type": "markdown",
   "id": "64a78dd6",
   "metadata": {},
   "source": [
    "---\n",
    "title: Demand\n",
    "author: Jongho Keum\n",
    "date: 2025-04-01\n",
    "format: html\n",
    "---"
   ]
  },
  {
   "cell_type": "markdown",
   "id": "97395d1d-b386-4fe1-a7ef-1d6db174c894",
   "metadata": {},
   "source": [
    "\n",
    "Electricity demand is a vital component in the planning, operation, and resilience of power systems. Climate change is expected to alter electricity demand patterns by affecting not only patterns of temperature, such as mean temperature, number of temperature extremes, and seasonal variations, but also consumption behaviours across different sectors. Numerous studies project increased cooling demand during hotter summers and reduced heating demand during milder winters as this pattern have been consistently observed across multiple global regions ( @Amonkar2023, @Auffhammer2011, @Pilli-Sihvola2010, @Trotter2016, @Wood2015). The magnitude and direction of these changes are strongly dependent on the region and latitude; for example, countries in warmer climates are expected to see higher overall demand growth due to increased cooling loads (@Bonkaney2023, @Emodi2018, @Zachariadis2014). Climate change also affects electricity consumption by sector and temporal demand profiles, including daily and seasonal variations. The residential, commercial, and industrial sectors respond differently to climate drivers ( @Dirks2015, @Shaik2024, @Taseska2012). Meanwhile, the timing of electricity demand is shifting as well, with studies projecting changes in peak load hours and seasonal peaks due to rising temperatures and more frequent extreme heat events ( @Amonkar2023, @Fonseca2019, @Romitti2022). \n",
    "\n",
    "To assess the impacts of climate change on electricity demand, different approaches have been employed. These include the use of climate projections from GCM and RCM combined with downscaling techniques to capture local climatic variability ( @Auffhammer2017, @Auffhammer2011, @Fonseca2019, @Lipson2019, @Trotter2016). Empirical models, such as regression-bases analyses, have been also used to estimate historical relationships between temperature and electricity use ( @Bonkaney2023, @Emodi2018, @Pilli-Sihvola2010) , while simulation tools and energy-climate models are applied to explore future scenarios under different socio-economic and climatic conditions ( @Dirks2015, @Lipson2019, @Taseska2012).\n"
   ]
  },
  {
   "cell_type": "markdown",
   "id": "acdbc6d1",
   "metadata": {},
   "source": [
    "## Climate change drivers and affected electricity demand parameters\n",
    "\n",
    "### Demand parameters\n",
    "Electricity demand is governed by a set of interconnected parameters that respond to both climatic and non-climatic factors. Under climate change, demand parameters, such as annual electricity consumption, peak demand magnitude and its timing, and daily load profiles, are increasingly influenced by variations in temperature, precipitation, and extreme weather. @Wood2015 listed key demand parameters affected by climate change as (1) total annual demand, influencing long-term generation capacity, (2) size and timing of peak demand, driving reserve margin and infrastructure sizing, (3) spatial distribution , affecting transmission and distribution network planning, and (4) sectoral response capacity, determining how quickly end-users can adapt to changing thermal comfort needs.\n",
    "\n",
    "Among all climatic variables, air temperature exerts the strongest impacts on electricity demand. The non-linear V-shaped (or U-shaped) relationship, where demand rises both at high and low temperatures due to cooling and heating needs, respectively, is well presented by using Cooling Degree Days (CDD) and Heating Degree Days (HDD) (@Hu2024, @Fonseca2019, @Schaeffer2012, @Garrido-Perez2021, @Hiruta2022, @Auffhammer2011, @Pilli-Sihvola2010). CDD quantify the accumulated temperature above a comfort threshold (commmonly 18degC or 65degF) which are mainly correlated with air conditioning demand. HDD reflects the accumulated temperature below the comfort threshold to estimate electrically heating requirements. For instanct, @Amonkar2023 found that climate change has affected most of the contiguous US after identifying that annual mean CDDs are increasing, leading to significant growth in both average and peak cooling demand, while HDDs are declining, resulting in reduced heating demand. Similarly, @Taseska2012 used national-scale adjustments to CDD and HDD to determine how climate-induced changes in the degree days would shift electricity consumption and peak capacity needs in Macedonia. In Canada, @Chidiac2022 applied CDD and HDD projections from multiple downscaled climate models to estimate future changes in space heating and cooling loads across Ontario's climate zones. Their results showed a consistent increase in CDD and decline in HDD, with implications for building retrofits and peak load planning.\n",
    "\n",
    "Climate change not only affects total energy use but also reshapes daily and seasonal demand profiles. @Fonseca2019 demonstrated that summer peak hours are becoming longer, with higher temperatures intensifying late afternoon summer peaks from a case study of the Tennessee Valley Authority region. @Romitti2022 also confirmed that peak hours are increasing as a result of climate change in North American cities. Shifting seasonal demand to warmer summer and the demand being more sensitive to climatic conditions in summer are the most commonly observed patterns across studies and across the world (@Hiruta2022, @Dessler2025, @Emodi2018, @Fonseca2021, @Garrido-Perez2021, @Klein2013, @Veliz2017, @Obringer2023). \n",
    "\n",
    "Socioeconomic drivers, such as population growth, urbanization, income levels, policy, and technological adoption (e.g., air conditioners, heat pumps, and thermal insulation), influence the response of electricity demand to temperature. @Auffhammer2011 demonstrated that population growth had a stronger effect on projected residential electricity demand with consumption potentially increasing nearly fivefold by the end of the century in California under high-growth scenarios. Using a stochastic modeling framework, @Trotter2016 fround that population growth along with economic growth were the most influential factor affecting electricity demand in Brazil. @Burillo2019 and @Allen2016 similarly analyzed that population growth due to urbanization or migration can reshape electricity demand patterns and stress local infrastructure, especially when combined with rising temperatures. @DeCian2019 analyzed the income level as a demand parameter and found significant increases in total energy consumption in most developing countries. @Shaik2024 found that climate change increases the elasticity of demand to both price and weather variables, particularly in the residential and commercial sectors. @Taseska2012 further emphasizes the role of adaptive capacity and policy. The adaptation measures, such as investment in more efficient cooling technologies or demand side management, can mitigate the projected demand increases.\n",
    "\n",
    "### Seasonal variations\n",
    "Rising temperatures due to climate change have led to a significant in seasonal electricity demand, particularly by increasing cooling demand during summer and reducing heating needs during winter. This shifting trend has been widely documented across regional and global studies. For example, @Auffhammer2017 showed that electricity demand in the United States shows a strong nonlinear response to high temperatures, especially above 25-30 degC, driven mainly by demand for air conditioning. Similarly, @DeCian2019 also confirmed this global trend that there are steep increases in demand where air conditioning is rising due to climate change. Regional case studies, such as @Garrido-Perez2021 and @Bonkaney2023, have demonstrated that peak demand coincides more frequently with extreme heat days, stressing both power generation and distribution infrastructure. The anticipated rise in the frequency, intensity, and duration of heatwaves further amplifies this concerns, requiring investments in peak capacity, demand-side management, and adaptation strategies. @Taseska2012 projected increased summer cooling demand across European regions due to higher temperatures, while @Zachariadis2014 confirmed the similar rise in cooling demand in Cyprus. @Dirks2015 also found that seasonal peaks are shifting in the United States, with summer peaks becoming more dominant due to climate-induced changes in building energy use.\n",
    "\n",
    "However, while winters are projected to be warmer, the demand responses are more variable. @Romitti2022 introduced a classification of demand response profiles: a \"V\"-shaped response which is common in mid-latitude temperated cities, such as North America and Europe where demand increases at both high and low temperatures; increasing response where demand rises steadily with temperature, which can be shown in tropical cities; and unresponsive profile where minimal or no correlation between temperature and electricity demand. @Pilli-Sihvola2010 used multivariate regression in Europe to estimate electricity consumption changes and found that Northern and Central Europe will experience reduced heating demand in winter while Southern Europe will face increased cooling demand and higher costs in summer. This results in an increased annual electricity demand in Spain while it will decrease in Finland, Germany and France. @Wood2015 analyzed how climate change could flatten winter peaks while enhancing summer peaks in the United Kingdom, suggesting that infrastructure planning should shift from winter-dominant to summer-dominant strategies.\n",
    "\n",
    "### Regional variations\n",
    "The impacts of climate change on electricity demand show considerable regional heterogeneity, followed by geographic location, climatic baseline, economic development, and infrastructure characteristics. A clear latitudinal pattern exists: countries at lower latitude are projected to have higher increases in electricity demand for cooling, while higher latitude regions may observe mixed outcomes due to the opposing effects of warmer winters and hotter summers. Similarly to the @Romitti2022's classification, @Hu2024 analyzed Temperature Response Functions (TRFs) across Europe by fitting the relationship between the electricity demand and temperature to three types of curves: linear decreasing curve for Northern European countries, linear curve with a horizontal segment for cold and intermediate climate countries, and V-shaped curve with a comfort zone for intermediate or warm countries where both heating and cooling demands are affected.\n",
    "\n",
    "Regional variations in electricity demand due to climate change across Japan show a clear dependency on latitude (@Hiruta2022) Northern regions, such as Hokkaido and Tohoku will experience decreased annual electricity demand owing to reduced heating needs, whereas southern regions from Tokyo to Okinawa will see increased consumption due to extended cooling requirements. Transition zones near the border of the northern and southern regions presents a balance between reduced heading and increased cooling demands, while the transition zones are shifting northward as climate warming continues. @McFarland2015 also confirmed that there is a decrease of heating degree days in northern US while the increase of cooling degree days is significant in southern US.\n",
    "\n",
    "In tropical regions, where average temperature are already high, even modest increases in temperature can trigger substantial rises in electricity use. @Bonkaney2023 found that rising temperatures will affect electricity demand for all warming levels due to increasing air conditioning needs, with low adaptive capacity exacerbating system stress in Niger. @DeCian2019 projected larger increases in energy consumption, primarily driven by higher frequency of high temperature extremes and the consequently increased cooling demand. However, in temperate regions, impacts on demand are mixed, varying based on local climate and socioeconomic conditions, as the demand can either increase or decrease depending on the local climate and geographic incidence of climate change (@DeCian2019).\n",
    "\n",
    "\n",
    "### Sectoral variations\n",
    "Climate change impacts electricity demands across sectors in different ways due to sector-specific end-use patterns, varying weather sensitivities, and adaptive capacities. Therefore, understanding differences in electricity demand patterns across sectors is essential for ensuring grid resilience under changing climate condistions. \n",
    "\n",
    "In the residential sectors, electricity demand is particularly sensitive to temperature fluctuations, primarily due to the use of heating and cooling appliances to meet residents' comfort expectations, which increase faster than the climate is changing (@Wood2015). @DeCian2019 found that temperate regions, warming reduces heating needs, resulting in lower electricity consumption, especially in households using electricity-based heating systems, such as heat pumps. However, in tropical and warmer temperate zones, the demand for space cooling increases substantially with rising temperatures and humidity levels, leading to a net increase in electricity use in residential buildings. @Berardi2020 emphasized that while heating energy use intentisy may decline by 18-33%, cooling energy user intensity could rise by as much as 126% by 2070 in Canadian buildings.\n",
    "\n",
    "The commercial sector is also highly climate-sensitive, primarily due to its dependence on heating, ventilating, and air conditioning (HVAC) systems. @Taseska2012 projectec that under a warmer climate scenario, commercial electricity demand for cooling would increase, especially during peak summer periods, while the reduction in heating demand would be relatively minor. @Veliz2017 showed that commercial electricity demands would increase driven not only by higher consumption but also by rising electricity prices. This suggests that the commercial sector faces both quantity- and price-based vulnerabilities under climate change.\n",
    "\n",
    "The industrial sector shows more heterogenous responses. Its demand is generally less directly related to air temperature, but certain processes, particularly those requireing climate-controlled environments, are affected by heat. @Shaik2024 showed that electricity demand in the industrial sector remains relatively price-inelastic and shows modest temperature sensitivity compared to other sectors. However, long-term changes in the demand may emerge through indirect pathways, such as workforce comfort requirements, advances in technology, or regulatory standards.\n",
    "\n",
    "In the transportation sector, electricity demand is currently limited as the sector remains largely dependent on petroleum. However, with increasing electrification of transport systems, future electricity demand is expected to rise significantly (@DeCian2019) @Shaik2024 also noted that while the sector's electricity use is still low, it is highly responsive to economic and price signals, suggesting future variability under combined climate and market pressures.\n"
   ]
  },
  {
   "cell_type": "markdown",
   "id": "b40ea2c9",
   "metadata": {},
   "source": [
    "\n",
    "## Methodologies for assessing climate change impacts\n",
    "### Climate data\n",
    "Climate data is essential for the electricity demand impact assessments under climate change. These data are primarily sourced from Glocal Climate Models (GCMs), which simulate the Earth's climate system based on physical laws and boundary conditions. GCMs provide long-term projections of atmospheric variables such as temperature and precipitation, which are critical inputs to electricity demand models, especially in studies focusing on temperatrue-sensitive loads like heating and cooling.\n",
    "\n",
    "Many studies assessing future electricity demand have employed GCM outputs from the Coupled Model Intercomparison Project phases, particularly CMIP5 and CMIP6. For example, @Fonseca2019 temperature projections from 20 CMIP5 GCMs to simulate intra-day electricity demand shifts. Similarly, @Chidiac2022 relied on GCMs from thh North American CORDEX, which has 23 CMIP6 to assess building heating and cooling demand in Ontario, while @Hu2024 drew on CMIP5 from the EURO-CORDEX to construct the temperature response function. @Amonkar2023 used ERA5 reanalysis data to analyze changes in peak and average thermal demand across the contiguous US. To explore a range of potential future emissions trajectories, studies commonly apply Representative Concentration Pathways (RCPs). These scenarios (i.e., RCP2.6, RCP4.5, RCP6.0, and RCP8.5) represent different greenhouse gas concentration trajectories based on varying degrees of pathway scenarios. The selection of RCPs provides a structured way to assess electricity demand sensitivity under different warming levels. For instance, @Hu2024 employed three major RCPs (2.6, 4.5, and 8.5) to examine how demand profiles shift across Europe. @Emodi2018 and @Reyna2017 similarly applied four RCPs including RCP6.0 to assess electricity demand responses under climate change, respectively. While @Trotter2016 and @Auffhammer2017 applied two RCPs (4.5 and 8.5), @Lipson2019 only used the worst pathway, RCP8.5, to investigate climate change impact on energy demand through building-urban-atmosphere simulations. On the other hand, @Chidiac2022 evaluated changes of HDDs and CDDs for buildings' heating and cooling demand under the intermediate scenario, RCP4.5. Given that GCMs operate at relatively coarse spatial resolutions (typically 100-250 km), their outputs are often inadequate for regional scale modeling. To address this, studies apply downscaling techniques that bridge the resolution gap between GCM outputs and local demand drivers. While statistical downscaling relates large-scale GCM outputs to local climate variables using historical observations (e.g., @Trotter2016, @Auffhammer2017, @Fonseca2019, and @Berardi2020), dynamical downscaling method uses Regional Climate Models (RCMs) to simulate climate at finer scales (typically 10-50 km) (e.g., @Zachariadis2014, @Lipson2019, and @Berardi2020). While, statistical downscaling methods are computationally efficient, these methods may fail to capture complex feedbacks and changes in variability or extremes. \n",
    "\n",
    "Despite the advances in climate data usage, the literature reveals several challenges and limitations. First, the choice of climate models and RCPs is not always clearly justified or consistent across studies, making comparative assessment difficult. Second, biases in raw climate model outputs can distrot demand projections if not corrected or validated using observations. Third, the integration of climate data with energy system models often lacks explicit treatment of uncertainty. @Fonseca2019 noted that climate variables alone explain a limited portion of electricity demand variability as socioeconomic, behavioral, and technological factors may play considerable roles. Additionally, while many studies have applied a single or limited number of climate models, ensemble approaches or various combinations of GCMs and RCMs, as used by @Reyna2017, @Auffhammer2017, @Lipson2019, @Fonseca2019, @Chidiac2022, @Lee2022, and @Bonkaney2023, are therefore essential to improve the robustness of results.\n",
    "\n",
    "- Simulation models: energy-climate models\n",
    "- Empirical methods: regression analysis\n"
   ]
  },
  {
   "cell_type": "markdown",
   "id": "f0c7023f",
   "metadata": {},
   "source": [
    "\n",
    "## Adaptation strategies\n",
    "- How to adapt changing demand patterns caused by climate change.\n",
    "- Demand-side management, energy efficiency measures, grid flexibility.\n",
    "\n"
   ]
  },
  {
   "cell_type": "markdown",
   "id": "e538e666",
   "metadata": {},
   "source": [
    "## Ontario's electricity demand\n",
    "In Ontario, the Independent Electricity System Operator (IESO) is responsible for the stable and reliable operation of power system and electricity market. According to the recent Annual Planning Outlook (APO) (@IESO2025), Ontario’s electricity demand is influenced by both growth-inducing and demand-tempering factors. On the growth side, demand is expected to rise significantly due to expansion of industrial electric vehicle production, an increasing number of data centres driven by artificial intelligence services, ongoing decarbonization and electrification initiatives, and continued population growth and household formation. Conversely, demand growth may be moderated by energy savings from energy demand-side management (eDSM) programs, slower growth of agricultural greenhouse sector, and rising living costs and economic uncertainty. \n",
    "As a result of these offsetting factors, grid-level electricity demand in Ontario remained relatively flat over the past decade. However, a substantial increase is projected: net summer seasonal peak demand is forecasted to grow by 48%, and net winter seasonal peak demand by 57, by 2050. It is important to note that these projections are based on a normal weather scenario, which assumes average climatic conditions. This approach may introduce potential limitations, as it does not account for increasing weather variability due to changing climate. Weather-sensitive demand, such as heating and cooling, is strongly influenced by actual weather conditions, which are expected to include more frequent heatwaves and cold snaps. Therefore, the application of various climate scenarios is recommended to better capture uncertainty and inform more resilient electricity system planning.\n"
   ]
  },
  {
   "cell_type": "code",
   "execution_count": null,
   "id": "de2ca695-dff3-4f4c-b65a-09490638f3db",
   "metadata": {},
   "outputs": [],
   "source": []
  }
 ],
 "metadata": {
  "kernelspec": {
   "display_name": "Python 3 (ipykernel)",
   "language": "python",
   "name": "python3"
  },
  "language_info": {
   "codemirror_mode": {
    "name": "ipython",
    "version": 3
   },
   "file_extension": ".py",
   "mimetype": "text/x-python",
   "name": "python",
   "nbconvert_exporter": "python",
   "pygments_lexer": "ipython3",
   "version": "3.10.13"
  }
 },
 "nbformat": 4,
 "nbformat_minor": 5
}
