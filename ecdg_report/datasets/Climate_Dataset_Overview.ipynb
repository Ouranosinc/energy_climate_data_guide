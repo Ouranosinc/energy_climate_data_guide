{
 "cells": [
  {
   "attachments": {},
   "cell_type": "markdown",
   "id": "c8533d0f-f7a6-4ec8-9914-96ef5f1a2058",
   "metadata": {},
   "source": [
    "# Overview of Climate Data\n",
    "\n",
    "::: {.callout-warning title=\"Note\"}\n",
    "\n",
    "The structure of this section may be organized by:\n",
    "\n",
    "* Climate Variable\n",
    "* Datasets (Preferred!)\n",
    "\n",
    "TBD\n",
    ":::\n",
    "\n",
    "## Climate Data Sources\n",
    "Generally, climate data can be sourced from historical observation of climate using instrumentation or from climate model simulations. In the context of electricity system planning and design, future climatic conditions should be of primary interest, but observed historical climate data and products derived thereof may also be employed or used in the development of adequate future climate information.\n",
    "\n",
    "Observed data is provided as point information at station locations. To provide continuous fields of climate information, station data can be interpolated spatially to produce gridded historical data. They provide a portrait of climate beyond the stations point locations but are impacted by potential interpolation errors, particularly in data sparce regions, or in regions of complex topography (e.g. mountainous areas). The approach that attempts to overcome these drawbacks is the reproduction of historical climate through the combination of a maximum of available climate information with a physical climate simulation approach known as climate reanalysis. [Reanalysis products](https://reanalyses.org) have substantially improved over recent years and are often used as surrogates for observational data in climate science and studies.\n",
    "\n",
    "Observational data and reanalysis data provide a representation of the actual evolution and sequence of events as they occurred and provide robust estimates of climate when averaged over climatic periods (usually 30 years). Note, however, that due to natural climate variability, climate estimates would shift with slight temporal shifts of the period, or the data being used.\n",
    "\n",
    "Simulated data from climate models used for electricity system planning and design should be sourced from internationally coordinated ensembles of climate model simulations or products derived thereof. These simulations typically cover multiple decades and are available for historical and future periods. They are fully consistent in time and space and are provided on grids. The grid resolution depends on the model or the data product.\n",
    "\n",
    "Like observational data, bias-adjusted historical climate simulations may be used to derive climate estimates of historical climate. These estimates will not be identical to climate estimates from observed data yet will generally fall into the range of natural variability of the observed climate. Since climate model simulations extend into the future, estimates for future climate may also be derived. It is important to note that the sequence of events produced by a historical climate simulation is distinct from the sequence of historically observed events, although their respective climate estimate is the robust characteristic they have in common.\n",
    "\n",
    "## Summary of Types of Climate Datasets\n",
    "\n",
    "The datasets discussed here can be grouped into the following categories:\n",
    "\n",
    "- **Observational data** are direct measurements from weather stations. These provide the most accurate and high-resolution temperature records, but their coverage is often limited to specific locations, leading to gaps in certain regions, particularly oceans and remote areas. Temporal gaps in the records may also be found in station data.\n",
    "\n",
    "- **Gridded observational datasets** address the spatial limitation of station data by interpolating their data across a defined grid, providing more comprehensive spatial coverage. These datasets, such as those produced by national meteorological agencies, offer a balance between accuracy and spatial representation, though uncertainties arise in data-sparse regions.\n",
    "\n",
    "- **Reanalysis datasets** combine historical observations with climate models to create consistent, long-term reconstructions of the atmosphere. They offer global coverage and high temporal resolution, making them valuable for analyzing past climate conditions and trends. However, reanalysis products rely on model-based data assimilation, which may introduce biases, especially in areas with limited observations.\n",
    "\n",
    "- **Climate model data**, often from global climate models (GCMs), simulate temperature under different greenhouse gas scenarios. These projections are essential for understanding future climate patterns and assessing potential impacts. While models provide large-scale trends, they lack the precision of observational data due to their coarse spatial resolution and inherent uncertainties in modeling processes.\n",
    "\n",
    "Together, these datasets enable a comprehensive view of both historical and future climate conditions, supporting a wide range of applications in the electricity sector."
   ]
  },
  {
   "cell_type": "code",
   "execution_count": null,
   "id": "cee2d7c2-95e5-4b37-b58e-878e9da43b3c",
   "metadata": {},
   "outputs": [],
   "source": []
  }
 ],
 "metadata": {
  "kernelspec": {
   "display_name": "Python 3 (ipykernel)",
   "language": "python",
   "name": "python3"
  },
  "language_info": {
   "codemirror_mode": {
    "name": "ipython",
    "version": 3
   },
   "file_extension": ".py",
   "mimetype": "text/x-python",
   "name": "python",
   "nbconvert_exporter": "python",
   "pygments_lexer": "ipython3",
   "version": "3.10.13"
  }
 },
 "nbformat": 4,
 "nbformat_minor": 5
}
