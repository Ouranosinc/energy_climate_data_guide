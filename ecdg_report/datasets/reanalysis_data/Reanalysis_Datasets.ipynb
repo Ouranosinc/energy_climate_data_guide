{
 "cells": [
  {
   "cell_type": "markdown",
   "id": "46f871e3-46d3-4010-827e-66b429eadc4a",
   "metadata": {},
   "source": [
    "# Reanalysis Datasets"
   ]
  },
  {
   "cell_type": "markdown",
   "id": "ed223efd-7e14-4d2b-8049-426d8fc7d7ab",
   "metadata": {},
   "source": [
    "## Definition of Reanalysis Data"
   ]
  },
  {
   "cell_type": "code",
   "execution_count": null,
   "id": "f1121cdd-6ba4-4094-8d65-7a933c59e969",
   "metadata": {},
   "outputs": [],
   "source": []
  }
 ],
 "metadata": {
  "kernelspec": {
   "display_name": "Python 3 (ipykernel)",
   "language": "python",
   "name": "python3"
  },
  "language_info": {
   "codemirror_mode": {
    "name": "ipython",
    "version": 3
   },
   "file_extension": ".py",
   "mimetype": "text/x-python",
   "name": "python",
   "nbconvert_exporter": "python",
   "pygments_lexer": "ipython3",
   "version": "3.10.13"
  }
 },
 "nbformat": 4,
 "nbformat_minor": 5
}
