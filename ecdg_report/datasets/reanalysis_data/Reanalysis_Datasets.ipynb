{
 "cells": [
  {
   "cell_type": "markdown",
   "id": "46f871e3-46d3-4010-827e-66b429eadc4a",
   "metadata": {},
   "source": [
    "# Reanalysis Datasets"
   ]
  },
  {
   "cell_type": "markdown",
   "id": "ed223efd-7e14-4d2b-8049-426d8fc7d7ab",
   "metadata": {},
   "source": [
    "## Definition of Reanalysis Data"
   ]
  },
  {
   "cell_type": "markdown",
   "id": "6b46d7be-f228-417e-a80f-c7ee91f6a079",
   "metadata": {},
   "source": [
    "An introdcution video on Reanalysis Data by Copernicus ECMWF:\n",
    "{{< video https://www.youtube.com/watch?v=FAGobvUGl24 >}}"
   ]
  },
  {
   "cell_type": "code",
   "execution_count": null,
   "id": "ffe22f02-8e51-4a0a-aa4c-f1ba12ade54f",
   "metadata": {},
   "outputs": [],
   "source": []
  }
 ],
 "metadata": {
  "kernelspec": {
   "display_name": "Python 3 (ipykernel)",
   "language": "python",
   "name": "python3"
  },
  "language_info": {
   "codemirror_mode": {
    "name": "ipython",
    "version": 3
   },
   "file_extension": ".py",
   "mimetype": "text/x-python",
   "name": "python",
   "nbconvert_exporter": "python",
   "pygments_lexer": "ipython3",
   "version": "3.10.13"
  }
 },
 "nbformat": 4,
 "nbformat_minor": 5
}
