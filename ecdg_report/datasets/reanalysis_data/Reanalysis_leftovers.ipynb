{
 "cells": [
  {
   "cell_type": "markdown",
   "id": "17272c26-5e7b-481e-86af-35ad6bc17df6",
   "metadata": {},
   "source": [
    "# Reanalysis leftovers\n"
   ]
  },
  {
   "cell_type": "markdown",
   "id": "c8a785d7-6015-4b60-b0e9-b93e95e3ad69",
   "metadata": {},
   "source": [
    "## CaSR\n",
    "\n",
    "|Strength|Description|\n",
    "|-|---|\n",
    "|**Precipitation Uncertainties**            |CaSR precipitation estimates deviate from observed values when far from stations.| \n",
    "|**Canada-specific**                     |Optimized for Canadian climate conditions, including extreme cold and snow processes.|"
   ]
  },
  {
   "cell_type": "code",
   "execution_count": null,
   "id": "92cc6e35-3035-4d5f-88c1-6e4b44ba86b1",
   "metadata": {},
   "outputs": [],
   "source": [
    " "
   ]
  }
 ],
 "metadata": {
  "kernelspec": {
   "display_name": "Python 3 (ipykernel)",
   "language": "python",
   "name": "python3"
  },
  "language_info": {
   "codemirror_mode": {
    "name": "ipython",
    "version": 3
   },
   "file_extension": ".py",
   "mimetype": "text/x-python",
   "name": "python",
   "nbconvert_exporter": "python",
   "pygments_lexer": "ipython3",
   "version": "3.9.13"
  }
 },
 "nbformat": 4,
 "nbformat_minor": 5
}
