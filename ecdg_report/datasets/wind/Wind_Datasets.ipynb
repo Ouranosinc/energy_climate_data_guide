{
 "cells": [
  {
   "cell_type": "markdown",
   "id": "55ea24ed27897e4b",
   "metadata": {},
   "source": [
    "## Wind Datasets\n",
    "\n",
    "### Introduction\n",
    "This introduces **wind** data"
   ]
  },
  {
   "cell_type": "markdown",
   "id": "6e667abf2ec84cf2",
   "metadata": {},
   "source": []
  },
  {
   "cell_type": "markdown",
   "id": "d4d67e0f09f384d8",
   "metadata": {},
   "source": []
  },
  {
   "cell_type": "code",
   "execution_count": null,
   "id": "4401fed0ac7948a8",
   "metadata": {},
   "outputs": [],
   "source": [
    "import wind\n",
    "\n",
    "wind.do_something()\n"
   ]
  },
  {
   "cell_type": "markdown",
   "id": "8f3341956774f26c",
   "metadata": {},
   "source": [
    "Hello wind!"
   ]
  },
  {
   "cell_type": "code",
   "execution_count": null,
   "id": "5ce7a033f7c09fdc",
   "metadata": {},
   "outputs": [],
   "source": []
  }
 ],
 "metadata": {
  "kernelspec": {
   "display_name": "scenario-requests",
   "language": "python",
   "name": "scenario-requests"
  },
  "language_info": {
   "codemirror_mode": {
    "name": "ipython",
    "version": 3
   },
   "file_extension": ".py",
   "mimetype": "text/x-python",
   "name": "python",
   "nbconvert_exporter": "python",
   "pygments_lexer": "ipython3",
   "version": "3.12.5"
  }
 },
 "nbformat": 4,
 "nbformat_minor": 5
}
