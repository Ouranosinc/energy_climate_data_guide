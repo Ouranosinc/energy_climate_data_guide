{
 "cells": [
  {
   "metadata": {},
   "cell_type": "markdown",
   "source": [
    "## Wind Datesets\n",
    "\n",
    "### Introduction\n",
    "This introduces **wind** data"
   ],
   "id": "55ea24ed27897e4b"
  },
  {
   "metadata": {},
   "cell_type": "markdown",
   "source": "",
   "id": "6e667abf2ec84cf2"
  },
  {
   "metadata": {},
   "cell_type": "markdown",
   "source": "",
   "id": "d4d67e0f09f384d8"
  },
  {
   "metadata": {},
   "cell_type": "code",
   "outputs": [],
   "execution_count": null,
   "source": [
    "import wind\n",
    "\n",
    "wind.do_something()\n"
   ],
   "id": "4401fed0ac7948a8"
  },
  {
   "metadata": {},
   "cell_type": "markdown",
   "source": "Hello wind!",
   "id": "8f3341956774f26c"
  },
  {
   "metadata": {},
   "cell_type": "code",
   "outputs": [],
   "execution_count": null,
   "source": "",
   "id": "5ce7a033f7c09fdc"
  }
 ],
 "metadata": {
  "kernelspec": {
   "display_name": "Python 3",
   "language": "python",
   "name": "python3"
  },
  "language_info": {
   "codemirror_mode": {
    "name": "ipython",
    "version": 2
   },
   "file_extension": ".py",
   "mimetype": "text/x-python",
   "name": "python",
   "nbconvert_exporter": "python",
   "pygments_lexer": "ipython2",
   "version": "2.7.6"
  }
 },
 "nbformat": 4,
 "nbformat_minor": 5
}
