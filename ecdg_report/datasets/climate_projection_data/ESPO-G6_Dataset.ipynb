{
 "cells": [
  {
   "cell_type": "markdown",
   "id": "ac09c40b-ad3e-42c7-b73b-667553e7a28a",
   "metadata": {},
   "source": [
    "# ESPO-G6 Dataset"
   ]
  },
  {
   "cell_type": "code",
   "execution_count": null,
   "id": "a959b639-cd7e-4e57-b778-09f07bbea545",
   "metadata": {},
   "outputs": [],
   "source": []
  }
 ],
 "metadata": {
  "kernelspec": {
   "display_name": "Python 3 (ipykernel)",
   "language": "python",
   "name": "python3"
  },
  "language_info": {
   "codemirror_mode": {
    "name": "ipython",
    "version": 3
   },
   "file_extension": ".py",
   "mimetype": "text/x-python",
   "name": "python",
   "nbconvert_exporter": "python",
   "pygments_lexer": "ipython3",
   "version": "3.10.13"
  }
 },
 "nbformat": 4,
 "nbformat_minor": 5
}
