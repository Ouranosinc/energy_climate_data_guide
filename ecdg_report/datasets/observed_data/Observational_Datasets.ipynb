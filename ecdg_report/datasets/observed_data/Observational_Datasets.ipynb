{
 "cells": [
  {
   "cell_type": "markdown",
   "id": "7237d659-6bf7-431a-b938-07cafaa03b64",
   "metadata": {},
   "source": [
    "# Observational Datasets\n",
    "\n",
    "## Definition of Observational Datasets"
   ]
  },
  {
   "cell_type": "code",
   "execution_count": null,
   "id": "21c40163-4148-41e4-aa1b-d83bff2d0938",
   "metadata": {},
   "outputs": [],
   "source": []
  }
 ],
 "metadata": {
  "kernelspec": {
   "display_name": "Python 3 (ipykernel)",
   "language": "python",
   "name": "python3"
  },
  "language_info": {
   "codemirror_mode": {
    "name": "ipython",
    "version": 3
   },
   "file_extension": ".py",
   "mimetype": "text/x-python",
   "name": "python",
   "nbconvert_exporter": "python",
   "pygments_lexer": "ipython3",
   "version": "3.10.13"
  }
 },
 "nbformat": 4,
 "nbformat_minor": 5
}
