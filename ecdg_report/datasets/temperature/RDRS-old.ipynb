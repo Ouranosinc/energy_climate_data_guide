{
 "cells": [
  {
   "cell_type": "markdown",
   "id": "e2b25034-7ba7-4b79-8fe4-22e62f07acd5",
   "metadata": {},
   "source": [
    "### Regional Deterministic Reforecast System - RDRS v2.1\n",
    "\n",
    "#### Overview\n",
    "\n",
    "Environment and Climate Change Canada has initiated the production of a 1980–2018, 10 km, North American precipitation and surface reanalysis. ERA-Interim is used to initialize the Global Deterministic Reforecast System (GDRS) at a 39 km resolution. Its output is then dynamically downscaled to 10 km by the Regional Deterministic Reforecast System (RDRS). Coupled with the RDRS, the Canadian Land Data Assimilation System (CaLDAS) and Precipitation Analysis (CaPA) are used to produce surface and precipitation analyses. All systems used are close to operational model versions and configurations.\n",
    "\n",
    "<a href=\"https://doi.org/10.5194/hess-25-4917-2021\">Gasset, et al. (2021)</a>\n",
    "\n",
    "#### Temperature Data\n",
    "\n",
    "RDRS v2.1 provides daily and hourly temperature data from 1980 onward, lorem ipsum lorem ipsum lorem non-ipsum  lorem ipsum lorem ipsum lorem non-ipsum lorem ipsum lorem ipsum lorem non-ipsum lorem ipsum lorem ipsum lorem non-ipsum lorem ipsum lorem ipsum lorem non-ipsum lorem ipsum lorem ipsum lorem non-ipsum lorem ipsum lorem ipsum lorem non-ipsum lorem ipsum lorem ipsum lorem non-ipsum lorem ipsum lorem ipsum lorem non-ipsum lorem ipsum lorem ipsum lorem non-ipsum lorem ipsum lorem ipsum lorem non-ipsum\n",
    "\n",
    "| name                                                           | source                                                          | data type                              | spatial domain                            | spatial resolution                                                              | temporal coverage                                                                           | time step                                    | data format         |          |\n",
    "|----------------------------------------------------------------|-----------------------------------------------------------------|----------------------------------------|-------------------------------------------|---------------------------------------------------------------------------------|---------------------------------------------------------------------------------------------|----------------------------------------------|---------------------|----------|\n",
    "| RDRSv2                                                         | CCMEP/ECCC                                                      | Regional reanalysis                    | North America                             | 10 km x 10 km                                                                   | 2000-2017(1980-1999 pending)                                                                | Hourly                                       | RPN                 | details  |"
   ]
  },
  {
   "cell_type": "code",
   "execution_count": null,
   "id": "78791d37-2847-470c-a8d3-931a4716d153",
   "metadata": {},
   "outputs": [],
   "source": []
  }
 ],
 "metadata": {
  "kernelspec": {
   "display_name": "Python 3 (ipykernel)",
   "language": "python",
   "name": "python3"
  },
  "language_info": {
   "codemirror_mode": {
    "name": "ipython",
    "version": 3
   },
   "file_extension": ".py",
   "mimetype": "text/x-python",
   "name": "python",
   "nbconvert_exporter": "python",
   "pygments_lexer": "ipython3",
   "version": "3.10.13"
  }
 },
 "nbformat": 4,
 "nbformat_minor": 5
}
