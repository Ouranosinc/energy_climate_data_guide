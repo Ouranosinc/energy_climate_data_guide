{
 "cells": [
  {
   "cell_type": "markdown",
   "id": "b92da83b-e8f6-423f-bff3-fd0c89aed581",
   "metadata": {},
   "source": [
    "### Temperature Datasets"
   ]
  },
  {
   "cell_type": "markdown",
   "id": "6681253d-2cff-488d-8d77-853028a58955",
   "metadata": {},
   "source": [
    "#### Introduction\n",
    "\n",
    "\n",
    "Temperature datasets are crucial for understanding climate variability and change. These datasets come from a variety of sources, each offering unique strengths depending on the type of analysis required.\n",
    "\n",
    "**Observational data** are direct temperature measurements from weather stations, buoys, and satellites. These provide the most accurate and high-resolution temperature records, but their coverage is often limited to specific locations, leading to gaps in certain regions, particularly oceans and remote areas.\n",
    "\n",
    "**Gridded observational datasets** address this limitation by interpolating station data across a defined grid, providing more comprehensive spatial coverage. These datasets, such as those produced by national meteorological agencies, offer a balance between accuracy and spatial representation, though uncertainties arise in data-sparse regions.\n",
    "\n",
    "**Reanalysis datasets** combine historical observations with climate models to create consistent, long-term reconstructions of the atmosphere. They offer global coverage and high temporal resolution, making them valuable for analyzing past climate conditions and trends. However, reanalysis products rely on model-based data assimilation, which may introduce biases, especially in areas with limited observations.\n",
    "\n",
    "**Climate model data**, often from global climate models (GCMs), simulate temperature under different greenhouse gas scenarios. These projections are essential for understanding future climate patterns and assessing potential impacts. While models provide large-scale temperature trends, they lack the precision of observational data due to their coarse spatial resolution and inherent uncertainties in modeling processes.\n",
    "\n",
    "Together, these temperature datasets enable a comprehensive view of both historical and future climate conditions, supporting a wide range of climate research and impact assessments."
   ]
  },
  {
   "cell_type": "markdown",
   "id": "66f3990d-c127-403e-869b-018eac4567b4",
   "metadata": {},
   "source": [
    "### Table of Datasets\n",
    "\n",
    "| name                                                           | source                                                          | data type                              | spatial domain                            | spatial resolution                                                              | temporal coverage                                                                           | time step                                    | data format         |          |\n",
    "|----------------------------------------------------------------|-----------------------------------------------------------------|----------------------------------------|-------------------------------------------|---------------------------------------------------------------------------------|---------------------------------------------------------------------------------------------|----------------------------------------------|---------------------|----------|\n",
    "| MSC Observations                                               | MSC/ECCC                                                        | Station data                           | Canada                                    | Point data                                                                      | Variable (1940- present)                                                                    | Hourly; Daily; Monthly                       | CSV; GeoJSON        | details  |\n",
    "| MSC Climate Normals                                            | MSC/ECCC                                                        | Station data                           | Canada                                    | Point data                                                                      | 1941-1970; 1951-1980; 1961-1990; 1971-2000; 1981-2010.                                      | Climatological means                         | CSV; GeoJSON        | details  |\n",
    "| MSC Daily Climate Records (LTCE, Long   Term Climate Extremes) | MSC/ECCC                                                        | Station data                           | Canada                                    | Point data                                                                      | Variable                                                                                    | Records for each day of the year             | CSV; GeoJSON        | details  |\n",
    "| AHCCD                                                          | CRD/ECCC                                                        | Station data                           | Canada                                    | Point data                                                                      | Variable (1950 to present)                                                                  | Daily; Monthly; Seasonal; Annual             | ASCII; CSV; GeoJSON | details  |\n",
    "| Hydro-Québec Station data                                      | Hydro-Québec                                                    | Station data                           | Northern Québec at hydroelectric stations | Point Data                                                                      | Variable (1990 to present)                                                                  | Variable ( sub-daily to daily)               | None                | details  |\n",
    "| White Pass Railway & River    Divisions dataset, Yukon         | Yukon Research Centre                                           | Station data from archives             | The upper Yukon River basin               | Point data                                                                      | 1902-1957                                                                                   | Daily                                        | Excel files         | details  |\n",
    "| SCDNA                                                          | University of Saskatchewan                                      | Station data and reanalyses blend      | North America                             | Point data                                                                      | 1979-2018                                                                                   | Daily                                        | NetCDF              | details  |\n",
    "| CANGRD                                                         | CRD/ECCC                                                        | Gridded observations                   | Canada                                    | 50 km x 50 km                                                                   | 1948-2017 (anomalies)                                                                       | Monthly; Seasonal; Annual                    | CSV; GeoJSON        | details  |\n",
    "| ANUSPLIN                                                       | CFS/NRCan                                                       | Gridded observations                   | Canada and North America                  | (10 km x 10 km) and (2 km x 2 km)                                               | 1950-2017                                                                                   | Daily; Pentad; Monthly; Climatological means | ASCII; NetCDF       | details  |\n",
    "| CRU TS Version 4                                               | CRU/University of East Anglia                                   | Gridded observations                   | Global (land only)                        | 0.5° x 0.5°                                                                     | 1901–2018                                                                                   | Monthly                                      | NetCDF              | details  |\n",
    "| WorldClim2                                                     | World Conservation Monitoring Centre/UNEP                       | Gridded observations                   | Global (land only)                        | 10 arc minutes (~340 km);5 arc minutes;2.5 arc minutes; 30 arc seconds (1   km) | 1970-2000                                                                                   | Monthly                                      | GeoTIFF             | details  |\n",
    "| Daymet Version 4                                               | Environmental Sciences Division/Oak Ridge National Laboratory   | Gridded observations                   | North America (land only)                 | 1 km x 1 km                                                                     | 1980-2019                                                                                   | Daily                                        | NetCDF              | details  |\n",
    "| PNWNAMET                                                       | PCIC                                                            | Gridded observations                   | North-western North America               | 3.75 arc minutes (~6 km)                                                        | 1945-2012                                                                                   | Daily                                        | ASCII; NetCDF       | details  |\n",
    "| Met1km                                                         | NRCan                                                           | Blend of gridded products              | Canada                                    | 1 km x 1 km                                                                     | 1901–2017                                                                                   | Daily                                        | None                | details  |\n",
    "| ERA5                                                           | ECMWF                                                           | Global atmospheric reanalysis          | Global                                    | 0.25°  x 0.25°                                                                  | 1950 to present                                                                             | Hourly; Daily; Monthly                       | GRIB;NetCDF         | details  |\n",
    "| CFSR                                                           | NCEP                                                            | Global atmospheric reanalysis          | Global                                    | 0.5° x 0.5°                                                                     | 1979-2017                                                                                   | Sub-daily; Monthly                           | GRIB                | details  |\n",
    "| MERRA-2                                                        | NASA                                                            | Global atmospheric reanalysis          | Global                                    | ½° latitude x ⅝° longitude                                                      | 1980 to present                                                                             | Hourly; Daily; Monthly                       | NetCDF              | details  |\n",
    "| JRA-55                                                         | JMA                                                             | Global atmospheric reanalysis          | Global                                    | 0.6258ᵒ x 0.6258ᵒ                                                               | 1957-2021                                                                                   | 3h; 6h; Daily; Monthly                       | NetCDF              | details  |\n",
    "| ASRv2                                                          | Byrd Polar Research Center/The Ohio State University; UCAR/NCAR | Regional reanalysis                    | Arctic                                    | 15 km x 15 km                                                                   | 2000-2016                                                                                   | 3h; Monthly                                  | NetCDF              | details  |\n",
    "| NARR                                                           | NCEP                                                            | Regional reanalysis                    | North America                             | 32 km x 32 km                                                                   | 1979-2021                                                                                   | Sub-daily; Monthly                           | GRIB                | details  |\n",
    "| RDRSv2                                                         | CCMEP/ECCC                                                      | Regional reanalysis                    | North America                             | 10 km x 10 km                                                                   | 2000-2017(1980-1999 pending)                                                                | Hourly                                       | RPN                 | details  |\n",
    "| 20CRv3                                                         | CIRES; NOAA; DOE                                                | Global atmospheric reanalysis          | Global                                    | T254 (approximately 75 km at the equator)                                       | 20CRv3.SI is available for years 1836-1980 and 20CRv3.MO is available for   years 1981-2015 | 3h; Daily; Monthly                           | NetCDF              | details  |\n",
    "| ERA5-Land                                                      | ECMWF                                                           | Land surface reanalysis/model          | Global (land only)                        | 0.1° x 0.1° (9 km)                                                              | 1950 to present                                                                             | Hourly; Monthly                              | GRIB; NetCDF        | details  |\n",
    "| AgERA                                                          | ECMWF                                                           | Re-gridded reanalysis                  | Global (land only)                        | 0.1° x 0.1°                                                                     | 1979 to present                                                                             | Daily                                        | NetCDF              | details  |\n",
    "| AgCFSR                                                         | NASA                                                            | Re-gridded reanalysis with corrections | Global (land only)                        | 0.25° × 0.25°                                                                   | 1980-2010                                                                                   | Daily                                        | NetCDF              | details  |\n",
    "| AgMERRA                                                        | NASA                                                            | Re-gridded reanalysis with corrections | Global (land only)                        | 0.25° × 0.25°                                                                   | 1980-2010                                                                                   | Daily                                        | NetCDF              | details  |\n",
    "| GMFD                                                           | Princeton University                                            | Re-gridded reanalysis with corrections | Global (land only)                        | 0.25° × 0.25°                                                                   | 1948-2016                                                                                   | 3h; Daily; Monthly                           | NetCDF              | details  |\n",
    "| CRU JRA                                                        | CRU/University of East Anglia                                   | Re-gridded reanalysis with corrections | Global (land only)                        | 0.5° × 0.5°                                                                     | 1901-2018                                                                                   | 6h                                           | NetCDF              | details  |\n",
    "| S14FD                                                          | DIAS                                                            | Re-gridded reanalysis with corrections | Global                                    | 0.5° x 0.5°                                                                     | 1958-2013                                                                                   | Daily                                        | NetCDF              | details  |"
   ]
  },
  {
   "cell_type": "code",
   "execution_count": null,
   "id": "760a0f54-2367-42b4-aca6-856800cfa8b2",
   "metadata": {},
   "outputs": [],
   "source": []
  },
  {
   "cell_type": "code",
   "execution_count": null,
   "id": "ac8ea843-4d25-4b4f-96b4-a7321ced1fda",
   "metadata": {},
   "outputs": [],
   "source": []
  },
  {
   "cell_type": "code",
   "execution_count": null,
   "id": "dbc4ff11-0985-48de-8a61-a99f6ebb55c1",
   "metadata": {},
   "outputs": [],
   "source": []
  }
 ],
 "metadata": {
  "kernelspec": {
   "display_name": "Python 3 (ipykernel)",
   "language": "python",
   "name": "python3"
  },
  "language_info": {
   "codemirror_mode": {
    "name": "ipython",
    "version": 3
   },
   "file_extension": ".py",
   "mimetype": "text/x-python",
   "name": "python",
   "nbconvert_exporter": "python",
   "pygments_lexer": "ipython3",
   "version": "3.10.13"
  }
 },
 "nbformat": 4,
 "nbformat_minor": 5
}
