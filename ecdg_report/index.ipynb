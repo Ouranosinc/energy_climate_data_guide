{
  "cells": [
    {
      "cell_type": "markdown",
      "metadata": {},
      "source": [
        "---\n",
        "title: \"ecdg_report\"\n",
        "---\n",
        "\n",
        "This is a Quarto website.\n",
        "\n",
        "To learn more about Quarto websites visit <https://quarto.org/docs/websites>."
      ]
    }
  ],
  "metadata": {
    "kernelspec": {
      "name": "python3",
      "language": "python",
      "display_name": "Python 3 (ipykernel)",
      "path": "/exec/braun/.conda/envs/obsflow/share/jupyter/kernels/python3"
    }
  },
  "nbformat": 4,
  "nbformat_minor": 4
}