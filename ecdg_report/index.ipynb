{
 "cells": [
  {
   "attachments": {},
   "cell_type": "markdown",
   "metadata": {},
   "source": [
    "---\n",
    "title: \"Electricity Sector Climate Data Guide\"\n",
    "author:\n",
    "  - name: Jongho Keum\n",
    "    affiliation: McMaster University\n",
    "    orcid: 0000-0001-2345-6789\n",
    "    email: maybe@not.com\n",
    "    degrees:\n",
    "      - PhD\n",
    "  - name: Marco Braun\n",
    "    affiliations:\n",
    "      - name: Ouranos\n",
    "      - city: Montreal\n",
    "      - state: QC\n",
    "    orcid: 0000-0001-2345-6789\n",
    "    email: maybe@not.com\n",
    "  - name: Sarah-Claude Bourdeau-Goulet\n",
    "    affiliation: Ouranos\n",
    "    orcid: 0000-0001-2345-6789\n",
    "    email: maybe@not.com\n",
    "  - name: Kurt Kornelsen\n",
    "    affiliation: Ontario Power Generation\n",
    "    orcid: 0000-0001-2345-6789\n",
    "    email: maybe@not.com\n",
    "    degrees:\n",
    "      - PhD\n",
    "  - name: Rasel Sheikh\n",
    "    affiliation: McMaster University\n",
    "    orcid: 0000-0001-2345-6789\n",
    "    email: maybe@not.com\n",
    "\n",
    "    \n",
    "\n",
    "---\n",
    "\n",
    "\n",
    "___\n",
    "Built with Quarto\n",
    "\n",
    "To learn more about Quarto websites visit <https://quarto.org/docs/websites>.\n",
    "\n",
    "___\n",
    "\n"
   ]
  },
  {
   "cell_type": "markdown",
   "metadata": {},
   "source": [
    "<a href=\"https://github.com/Ouranosinc/energy_climate_data_guide\">Energy Climate Data Guide</a> © 2025 by <a href=\"https://www.ouranos.ca/en\">Ouranos</a> & <a href=\"https://www.mcmaster.ca/\">McMaster University</a> is licensed under <a href=\"https://creativecommons.org/licenses/by-nd/4.0/\">CC BY-ND 4.0</a><img src=\"https://mirrors.creativecommons.org/presskit/icons/cc.svg\" style=\"max-width: 1em;max-height:1em;margin-left: .2em;\"><img src=\"https://mirrors.creativecommons.org/presskit/icons/by.svg\" style=\"max-width: 1em;max-height:1em;margin-left: .2em;\"><img src=\"https://mirrors.creativecommons.org/presskit/icons/nd.svg\" style=\"max-width: 1em;max-height:1em;margin-left: .2em;\">"
   ]
  },
  {
   "cell_type": "code",
   "execution_count": null,
   "metadata": {},
   "outputs": [],
   "source": []
  }
 ],
 "metadata": {
  "kernelspec": {
   "display_name": "Python 3 (ipykernel)",
   "language": "python",
   "name": "python3"
  },
  "language_info": {
   "codemirror_mode": {
    "name": "ipython",
    "version": 3
   },
   "file_extension": ".py",
   "mimetype": "text/x-python",
   "name": "python",
   "nbconvert_exporter": "python",
   "pygments_lexer": "ipython3",
   "version": "3.10.13"
  }
 },
 "nbformat": 4,
 "nbformat_minor": 4
}
