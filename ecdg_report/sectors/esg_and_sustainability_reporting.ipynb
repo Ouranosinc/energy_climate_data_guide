{
 "cells": [
  {
   "cell_type": "markdown",
   "id": "77e5699f-cb4a-42d3-868f-ca81eb730839",
   "metadata": {},
   "source": [
    "# ESG & Sustainability Reporting\n",
    "\n",
    "## Description\n",
    "Need to support disclosure requirements (voluntary and mandatory) related to risk and based on scenario analysis."
   ]
  },
  {
   "cell_type": "code",
   "execution_count": null,
   "id": "9e844729-022f-4f20-9330-7be20e38d9fa",
   "metadata": {},
   "outputs": [],
   "source": []
  }
 ],
 "metadata": {
  "kernelspec": {
   "display_name": "Python 3 (ipykernel)",
   "language": "python",
   "name": "python3"
  },
  "language_info": {
   "codemirror_mode": {
    "name": "ipython",
    "version": 3
   },
   "file_extension": ".py",
   "mimetype": "text/x-python",
   "name": "python",
   "nbconvert_exporter": "python",
   "pygments_lexer": "ipython3",
   "version": "3.10.13"
  }
 },
 "nbformat": 4,
 "nbformat_minor": 5
}
