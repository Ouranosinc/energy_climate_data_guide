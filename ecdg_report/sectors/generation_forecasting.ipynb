{
 "cells": [
  {
   "cell_type": "markdown",
   "id": "9a62b285-a2fc-4220-ba31-5695c049e269",
   "metadata": {},
   "source": [
    "# Generation Forecasting"
   ]
  },
  {
   "cell_type": "code",
   "execution_count": null,
   "id": "ad9d1e4c-5b4d-4647-961d-2c0cfe9f08dd",
   "metadata": {},
   "outputs": [],
   "source": []
  },
  {
   "cell_type": "code",
   "execution_count": null,
   "id": "528c2c15-c8a8-4f4c-a1e0-4802f00f58cf",
   "metadata": {},
   "outputs": [],
   "source": []
  }
 ],
 "metadata": {
  "kernelspec": {
   "display_name": "Python 3 (ipykernel)",
   "language": "python",
   "name": "python3"
  },
  "language_info": {
   "codemirror_mode": {
    "name": "ipython",
    "version": 3
   },
   "file_extension": ".py",
   "mimetype": "text/x-python",
   "name": "python",
   "nbconvert_exporter": "python",
   "pygments_lexer": "ipython3",
   "version": "3.10.13"
  }
 },
 "nbformat": 4,
 "nbformat_minor": 5
}
