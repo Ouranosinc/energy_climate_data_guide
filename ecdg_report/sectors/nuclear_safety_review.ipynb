{
 "cells": [
  {
   "cell_type": "markdown",
   "id": "053aa3a2-ed4b-4675-98d1-e388d4ff223b",
   "metadata": {},
   "source": [
    "## Nuclear Safety Reviews\n",
    "\n",
    "### First\n",
    "### Second\n",
    "### Third"
   ]
  },
  {
   "cell_type": "code",
   "execution_count": null,
   "id": "602b6759-f4aa-4df2-972b-d7806ebdba70",
   "metadata": {},
   "outputs": [],
   "source": []
  }
 ],
 "metadata": {
  "kernelspec": {
   "display_name": "Python 3 (ipykernel)",
   "language": "python",
   "name": "python3"
  },
  "language_info": {
   "codemirror_mode": {
    "name": "ipython",
    "version": 3
   },
   "file_extension": ".py",
   "mimetype": "text/x-python",
   "name": "python",
   "nbconvert_exporter": "python",
   "pygments_lexer": "ipython3",
   "version": "3.10.13"
  }
 },
 "nbformat": 4,
 "nbformat_minor": 5
}
