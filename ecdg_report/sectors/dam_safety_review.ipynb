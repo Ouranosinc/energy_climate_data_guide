{
 "cells": [
  {
   "cell_type": "markdown",
   "id": "ff423eda-364f-4e9c-851c-77b9670198d5",
   "metadata": {},
   "source": [
    "# Dam Safety Review\n",
    "\n",
    "## Description\n",
    "Includes assessments of PMP, PMF, IDF and other hydrotechnical aspects of dam safety. Also includes failure modes analysis which could include broader climatic indicators.\n"
   ]
  },
  {
   "cell_type": "code",
   "execution_count": null,
   "id": "ef57544e-9d12-4e38-bb0a-75c7ca085048",
   "metadata": {},
   "outputs": [],
   "source": []
  }
 ],
 "metadata": {
  "kernelspec": {
   "display_name": "Python 3 (ipykernel)",
   "language": "python",
   "name": "python3"
  },
  "language_info": {
   "codemirror_mode": {
    "name": "ipython",
    "version": 3
   },
   "file_extension": ".py",
   "mimetype": "text/x-python",
   "name": "python",
   "nbconvert_exporter": "python",
   "pygments_lexer": "ipython3",
   "version": "3.10.13"
  }
 },
 "nbformat": 4,
 "nbformat_minor": 5
}
