{
 "cells": [
  {
   "cell_type": "markdown",
   "id": "f6071aaf-af1f-4c94-912c-84fb22aaa425",
   "metadata": {},
   "source": [
    "# Enterprise Risk Management \n",
    "\n",
    "::: {.callout-important title=\"Maybe consider this!\"}\n",
    "The following may need to become distinct sections!\n",
    ":::\n",
    "\n",
    "## Infrastructure Condition Assessment\n",
    "## Investment Prioritization\n",
    "## Vegetation Management"
   ]
  },
  {
   "cell_type": "code",
   "execution_count": null,
   "id": "75f1c7b3-0605-4ffa-976a-d2b4e31aab0f",
   "metadata": {},
   "outputs": [],
   "source": []
  }
 ],
 "metadata": {
  "kernelspec": {
   "display_name": "Python 3 (ipykernel)",
   "language": "python",
   "name": "python3"
  },
  "language_info": {
   "codemirror_mode": {
    "name": "ipython",
    "version": 3
   },
   "file_extension": ".py",
   "mimetype": "text/x-python",
   "name": "python",
   "nbconvert_exporter": "python",
   "pygments_lexer": "ipython3",
   "version": "3.10.13"
  }
 },
 "nbformat": 4,
 "nbformat_minor": 5
}
