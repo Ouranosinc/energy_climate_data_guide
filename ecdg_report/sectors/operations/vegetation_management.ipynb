{
 "cells": [
  {
   "cell_type": "markdown",
   "id": "ac0b7627-42a4-47ea-a49a-2d3b07f35524",
   "metadata": {},
   "source": [
    "# Vegetation Management\n",
    "\n",
    "## Description\n",
    "Support the enhancement of vegetation management programs to include changes in vegetation growth."
   ]
  },
  {
   "cell_type": "code",
   "execution_count": null,
   "id": "89702aaf-8d49-442b-b9df-5374548496a1",
   "metadata": {},
   "outputs": [],
   "source": []
  }
 ],
 "metadata": {
  "kernelspec": {
   "display_name": "Python 3 (ipykernel)",
   "language": "python",
   "name": "python3"
  },
  "language_info": {
   "codemirror_mode": {
    "name": "ipython",
    "version": 3
   },
   "file_extension": ".py",
   "mimetype": "text/x-python",
   "name": "python",
   "nbconvert_exporter": "python",
   "pygments_lexer": "ipython3",
   "version": "3.10.13"
  }
 },
 "nbformat": 4,
 "nbformat_minor": 5
}
