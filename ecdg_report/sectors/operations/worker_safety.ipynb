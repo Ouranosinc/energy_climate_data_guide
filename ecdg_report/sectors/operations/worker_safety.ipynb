{
 "cells": [
  {
   "cell_type": "markdown",
   "id": "cf161320-b7d6-46d9-8143-90e6aebbf199",
   "metadata": {},
   "source": [
    "# Worker safety\n",
    "\n",
    "## Description\n",
    "Incorporate climate hazard evaluation and mitigation into job planning. For work environments imposing elevated risk to climate hazard exposure, this may include implementing appropriate administrative and/or engineering controls such as modifying work schedules to reduce exposure to extreme temperatures."
   ]
  },
  {
   "cell_type": "code",
   "execution_count": null,
   "id": "12247797-8f61-4707-8163-e476c7bbe17e",
   "metadata": {},
   "outputs": [],
   "source": []
  }
 ],
 "metadata": {
  "kernelspec": {
   "display_name": "Python 3 (ipykernel)",
   "language": "python",
   "name": "python3"
  },
  "language_info": {
   "codemirror_mode": {
    "name": "ipython",
    "version": 3
   },
   "file_extension": ".py",
   "mimetype": "text/x-python",
   "name": "python",
   "nbconvert_exporter": "python",
   "pygments_lexer": "ipython3",
   "version": "3.10.13"
  }
 },
 "nbformat": 4,
 "nbformat_minor": 5
}
