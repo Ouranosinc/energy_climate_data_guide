{
 "cells": [
  {
   "cell_type": "markdown",
   "id": "97395d1d-b386-4fe1-a7ef-1d6db174c894",
   "metadata": {},
   "source": [
    "# Demand Forecasting\n",
    "\n",
    "## Hydro\n",
    "lorem ipsum, bla, bla, and blah\n",
    "\n",
    "## Nuclear\n",
    "lorem ipsum, bla, bla, and blah\n",
    "\n",
    "## Solar\n",
    "lorem ipsum, bla, bla, and blah\n",
    "\n",
    "## Thermal\n",
    "lorem ipsum, bla, bla, and blah\n",
    "\n",
    "## Wind\n",
    "lorem ipsum, bla, bla, and blah"
   ]
  },
  {
   "cell_type": "code",
   "execution_count": null,
   "id": "511cb1ef-212f-4f12-9fa1-b7520e5a32e6",
   "metadata": {},
   "outputs": [],
   "source": []
  }
 ],
 "metadata": {
  "kernelspec": {
   "display_name": "Python 3 (ipykernel)",
   "language": "python",
   "name": "python3"
  },
  "language_info": {
   "codemirror_mode": {
    "name": "ipython",
    "version": 3
   },
   "file_extension": ".py",
   "mimetype": "text/x-python",
   "name": "python",
   "nbconvert_exporter": "python",
   "pygments_lexer": "ipython3",
   "version": "3.10.13"
  }
 },
 "nbformat": 4,
 "nbformat_minor": 5
}
