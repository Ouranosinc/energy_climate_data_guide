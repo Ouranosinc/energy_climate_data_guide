{
 "cells": [
  {
   "cell_type": "markdown",
   "id": "74071f4a-1c58-44f6-aa4a-0d7c796698de",
   "metadata": {},
   "source": [
    "# Proactive management of heavily loaded assets"
   ]
  }
 ],
 "metadata": {
  "kernelspec": {
   "display_name": "Python 3 (ipykernel)",
   "language": "python",
   "name": "python3"
  },
  "language_info": {
   "codemirror_mode": {
    "name": "ipython",
    "version": 3
   },
   "file_extension": ".py",
   "mimetype": "text/x-python",
   "name": "python",
   "nbconvert_exporter": "python",
   "pygments_lexer": "ipython3",
   "version": "3.10.13"
  }
 },
 "nbformat": 4,
 "nbformat_minor": 5
}
