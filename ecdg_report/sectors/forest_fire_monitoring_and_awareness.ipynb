{
 "cells": [
  {
   "cell_type": "markdown",
   "id": "be8638bd-c9fa-4641-8f2a-918c939750a0",
   "metadata": {},
   "source": [
    "# Forest Fire Monitoring and Awareness\n",
    "\n",
    "\n",
    "## This is a test:\n",
    "I want to see if I can smoothly type into the Notebook file locally in my PyCharm environment and everything will update nicely remotely in jupyter lab and quarto output.\n",
    "\n",
    "So while I type this, I have my jupyter server running on doris.ouranos.ca and jupyter lab is open in my browser.\n",
    "\n",
    "If I save this file here locally, it should be ssh-ed to my doris directory, updated in jupyter lab in my browser and subsequently Quarto should update the output which is open in my browser as well, that is the quarto server listening to my notebooks and quarto files.\n",
    "\n",
    "I will now also go ahead and make a change in the _quarto.yml file.\n",
    "\n",
    "## Result of the test:\n",
    "It very nicely does all that but at first I was a little impatient and did some fiddling with the upload of the file for everything to show up in the browser, the jupyter lab as well as the quarto preview. Next time around it just does it!\n",
    "\n",
    "##### Very cool!\n",
    "\n",
    "# YAY!!!\n",
    "\n",
    "And with that I'll add some code right here:"
   ]
  },
  {
   "metadata": {},
   "cell_type": "code",
   "outputs": [],
   "execution_count": null,
   "source": [
    "import beer\n",
    "import time\n",
    "import user\n",
    "\n",
    "if time > \"16:00\":\n",
    "    beer = True\n",
    "    user.drink(beer)"
   ],
   "id": "f061a0cbd415652d"
  }
 ],
 "metadata": {
  "kernelspec": {
   "display_name": "Python 3 (ipykernel)",
   "language": "python",
   "name": "python3"
  },
  "language_info": {
   "codemirror_mode": {
    "name": "ipython",
    "version": 3
   },
   "file_extension": ".py",
   "mimetype": "text/x-python",
   "name": "python",
   "nbconvert_exporter": "python",
   "pygments_lexer": "ipython3",
   "version": "3.10.13"
  }
 },
 "nbformat": 4,
 "nbformat_minor": 5
}
