{
 "cells": [
  {
   "cell_type": "markdown",
   "id": "be8638bd-c9fa-4641-8f2a-918c939750a0",
   "metadata": {},
   "source": [
    "## Forest Fire Monitoring and Awareness\n",
    "\n",
    "This section is about forest fires and how to manage awareness about this threat.\n",
    "\n",
    "## This is a test:\n",
    "I want to see if I can smoothly type into the Notebook file locally in my PyCharm IDE and everything will update nicely remotely in jupyter lab and quarto output.\n",
    "\n",
    "So while I type this in PyCharm, I have my jupyter server running on doris.ouranos.ca and jupyter lab is open in my browser.\n",
    "\n",
    "If I save this file locally, it should be ssh-ed to my directory on doris, updated in jupyter lab in my browser and subsequently Quarto should update the output which is open in my browser as well, that is, the quarto server is listening to my notebooks and quarto files.\n",
    "\n",
    "I will now also go ahead and make some changes in the _quarto.yml file.\n",
    "\n",
    "### Here is just a Third Level Heading\n",
    "\n",
    "So this would be the corresponding text.\n",
    "\n",
    "#### And just for the heck of it, here is also a Fourth Level Heading\n",
    "\n",
    "Let's see if this is also rendered in the TOC, indicating what's \"On this page\".\n",
    "\n",
    "## Result of the test:\n",
    "It very nicely does all that but at first I was a little impatient and did some fiddling with the upload of the file for everything to show up in the browser, the jupyter lab and the quarto preview page. Then I just went on typing and next time around it just does it all and everything show up alright. It's magical, hihi!\n",
    "\n",
    "##### Very cool!\n",
    "\n",
    "# YAY!!! (First Level Heading)\n",
    "\n",
    "# First Level Heading\n",
    "\n",
    "bla bla\n",
    "\n",
    "## Second Level Heading\n",
    "\n",
    "bla bla\n",
    "\n",
    "### Third level Heading\n",
    "\n",
    "haha haha\n",
    "\n",
    "#### Fourth Level Heading\n",
    "\n",
    "Is this still showing in the TOC?\n",
    "\n",
    "And with that I'll add some code right here:"
   ]
  },
  {
   "cell_type": "code",
   "execution_count": null,
   "id": "f061a0cbd415652d",
   "metadata": {},
   "outputs": [],
   "source": [
    "import beer\n",
    "import time\n",
    "import user\n",
    "\n",
    "if time > \"16:00\":\n",
    "    beer = True\n",
    "    user.drink(beer)"
   ]
  }
 ],
 "metadata": {
  "kernelspec": {
   "display_name": "Python 3 (ipykernel)",
   "language": "python",
   "name": "python3"
  },
  "language_info": {
   "codemirror_mode": {
    "name": "ipython",
    "version": 3
   },
   "file_extension": ".py",
   "mimetype": "text/x-python",
   "name": "python",
   "nbconvert_exporter": "python",
   "pygments_lexer": "ipython3",
   "version": "3.10.13"
  }
 },
 "nbformat": 4,
 "nbformat_minor": 5
}
