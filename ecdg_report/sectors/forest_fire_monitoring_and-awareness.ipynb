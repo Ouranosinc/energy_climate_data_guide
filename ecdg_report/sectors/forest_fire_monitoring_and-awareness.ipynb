{
 "cells": [
  {
   "cell_type": "markdown",
   "id": "be8638bd-c9fa-4641-8f2a-918c939750a0",
   "metadata": {},
   "source": [
    "# Forest fire monitoring and awareness"
   ]
  }
 ],
 "metadata": {
  "kernelspec": {
   "display_name": "Python 3 (ipykernel)",
   "language": "python",
   "name": "python3"
  },
  "language_info": {
   "codemirror_mode": {
    "name": "ipython",
    "version": 3
   },
   "file_extension": ".py",
   "mimetype": "text/x-python",
   "name": "python",
   "nbconvert_exporter": "python",
   "pygments_lexer": "ipython3",
   "version": "3.10.13"
  }
 },
 "nbformat": 4,
 "nbformat_minor": 5
}
