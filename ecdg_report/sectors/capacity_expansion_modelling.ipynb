{
 "cells": [
  {
   "cell_type": "markdown",
   "id": "2a03f720-9ee3-4e2b-b698-6663818a5061",
   "metadata": {},
   "source": [
    "# Capacity Expansion Modelling\n",
    "\n",
    "## Description\n",
    "Modelling of growth in grid requirements taking demand, supply, costs, etc. as inputs to determine how to best meet demand in the lowest costs method\n",
    "[Power Sector Modeling 101](https://www.energy.gov/sites/prod/files/2016/02/f30/EPSA_Power_Sector_Modeling_FINAL_021816_0.pdf)\n"
   ]
  },
  {
   "cell_type": "code",
   "execution_count": null,
   "id": "5fb1f6b8-0a90-4060-90f3-21cde6ca7c70",
   "metadata": {},
   "outputs": [],
   "source": []
  }
 ],
 "metadata": {
  "kernelspec": {
   "display_name": "Python 3 (ipykernel)",
   "language": "python",
   "name": "python3"
  },
  "language_info": {
   "codemirror_mode": {
    "name": "ipython",
    "version": 3
   },
   "file_extension": ".py",
   "mimetype": "text/x-python",
   "name": "python",
   "nbconvert_exporter": "python",
   "pygments_lexer": "ipython3",
   "version": "3.10.13"
  }
 },
 "nbformat": 4,
 "nbformat_minor": 5
}
