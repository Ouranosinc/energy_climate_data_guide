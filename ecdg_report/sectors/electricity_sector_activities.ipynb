{
 "cells": [
  {
   "cell_type": "markdown",
   "id": "0e1d8dd9-e393-4cda-8ac6-7763040e4214",
   "metadata": {},
   "source": [
    "# Electricity Sector Activities\n",
    "\n",
    "## Introduction\n",
    "\n",
    "## Overview of Activities\n",
    "\n",
    "[Electricity System Planning](/sectors/grid_planning.ipynb)\n",
    "- Capacity Expansion Modelling\n",
    "- Demand forecasting (Hydro, Nuclear, Solar, Thermal, Wind) (_why does demand forecasting have these?_)\n",
    "- Generation Forecasting (Hydro, Nuclear, Solar, Thermal, Wind)\n",
    "- Resource Adequacy Planning\n",
    "\n",
    "[Operations Planning](/sectors/operations_planning.ipynb)\n",
    "- Electrical System Operations (_no literature review_)\n",
    "- Proactive management of heavily loaded assets\n",
    "- Nuclear Safety Review\n",
    "- Outage scheduling (_no literature review - linked to generation and demand forecast_)\n",
    "- Vegetation Management (_some examples but not a lit review_)\n",
    "- Worker safety (_no literature review for this project might be some lit resources_)\n",
    "- Forest fire monitoring and awareness (_to discuss - related to Vegetation Mgmt and Infrastructure Design_)\n",
    "\n",
    "[Infrastructure Planning and Asset Management](/sectors/infrastructure_planning.ipynb)\n",
    "- Construction (_no literature review_)\n",
    "- Dam Safety Review\n",
    "- Infrastructure Condition Assessment / Investment Prioritization (_no literature review can reference FAO and other reports_)\n",
    "- Infrastructure Design (Hydro, Thermal/Nuclear, Transmission & Distribution) (_do we break these out and include reviews_)\n",
    "- Support supply chain decision-making (_no literature review_)\n",
    "- Licensing & Impact/Environmental Assessments (_no literature review_)\n",
    "\n",
    "[Assurance, Reporting and Disclosures](/sectors/reporting_disclosures.ipynb)\n",
    "- Enterprise Risk Management (_no literature review_)\n",
    "- ESG/Sustainability Reporting (_no literature review_)\n",
    "\n",
    "\n",
    "\n",
    "\n",
    "\n",
    "\n",
    "- Innovation investments (_do we know what this is?_)\n",
    "\n",
    "\n",
    "\n",
    "\n",
    "\n",
    "\n"
   ]
  },
  {
   "cell_type": "code",
   "execution_count": null,
   "id": "4fc87d79-d452-44bf-9c8a-323d64d82739",
   "metadata": {},
   "outputs": [],
   "source": []
  }
 ],
 "metadata": {
  "kernelspec": {
   "display_name": "base",
   "language": "python",
   "name": "python3"
  },
  "language_info": {
   "codemirror_mode": {
    "name": "ipython",
    "version": 3
   },
   "file_extension": ".py",
   "mimetype": "text/x-python",
   "name": "python",
   "nbconvert_exporter": "python",
   "pygments_lexer": "ipython3",
   "version": "3.9.13"
  }
 },
 "nbformat": 4,
 "nbformat_minor": 5
}
