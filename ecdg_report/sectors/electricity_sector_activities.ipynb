{
 "cells": [
  {
   "cell_type": "markdown",
   "id": "58ce490b-ed32-4e8e-a41b-0afc82b8c5e1",
   "metadata": {},
   "source": [
    "# Electricity Sector Activities\n",
    "\n",
    "## Introduction\n",
    "\n",
    "## Overview of Activities\n",
    "\n",
    "[Electricity System Planning](/sectors/planning/grid_planning.ipynb)\n",
    "\n",
    "- Demand forecasting (**deep dive**)\n",
    "    (_a literature review and analysis on demand and demand forecasting_)\n",
    "- Generation Forecasting (Hydro, Nuclear, Solar, Thermal, Wind)(**deep dive**)\n",
    "    (_how does climate data impact generation forecasting processes_)\n",
    "- Capacity Expansion Modelling\n",
    "    (_summary of how this process works, but climate data interactions come from Demand and Generation forecasts_)\n",
    "- Resource Adequacy Planning\n",
    "    (_summary of how this process works, but climate data interactions come from Demand and Generation forecasts_)\n",
    "\n",
    "[Operations Planning](/sectors/operations/operations_planning.ipynb)\n",
    "\n",
    "- Electrical System Operations (_what seasonal to annual data go into this process?_)\n",
    "- Proactive management of heavily loaded assets (_what data go into this process?_)\n",
    "- Outage scheduling \n",
    "    (_What factors are considered for scheduling outages - linked to generation and demand forecast_)\n",
    "- Vegetation Management (_I think we do a light review of this topic but not a deep dive_)\n",
    "- Worker safety (_reference some generic material on safety and health implications of CC_)\n",
    "- Forest fire monitoring and awareness (_to discuss - related to Vegetation Mgmt and Infrastructure Design?_)\n",
    "\n",
    "[Infrastructure Planning and Asset Management](/sectors/infrastructure/infrastructure_planning.ipynb)\n",
    "\n",
    "- Construction \n",
    "    (_focus here is the temporary activities during construction. For example a coffer dam doesn't have the same design criteria as a permanent dam_)\n",
    "- Dam Safety Review\n",
    "- Nuclear Safety Review\n",
    "    (_What do you think about wrapping these into Infrastructure Design and Review?_)\n",
    "- Infrastructure Condition Assessment & Investment Prioritization \n",
    "    (_can review some general literature on asset management and tie it to operations challenges and design reviews_)\n",
    "- Infrastructure Design (Hydro, Thermal/Nuclear, Transmission & Distribution) (**deep dive**)\n",
    "    (_Do we break these out? We are currently thinking to do a mix of standards/practices and some literature on extremes that inform design parameters. For example, there might not be much on pole design and climate change, but we can see who winds are expected to change and cross reference that with pole design practices. From the perspective of this project the deeper dive will be in the climate data the influence pole design_)\n",
    "- Support supply chain decision-making (_short summary talking about supply chain vulnerabilities_)\n",
    "- Licensing, Impact & Environmental Assessments (_How much is warranted here?_)\n",
    "\n",
    "[Assurance, Reporting and Disclosures](/sectors/reporting/reporting_disclosure.ipynb)\n",
    "\n",
    "- Enterprise Risk Management \n",
    "    (_Short overview of generic ERM practices. Climate data comes from infrastructure reviews or demand/generation forecasts_)\n",
    "- ESG/Sustainability Reporting \n",
    "    (_Short overview of ESG reporting. The actual climate data from other areas informs this one._)\n",
    "\n",
    "\n",
    "\n",
    "\n",
    "Not classified:\n",
    "\n",
    "- [Innovation investments](innovation_investments.ipynb) (_do we know what this is?_)\n"
   ]
  }
 ],
 "metadata": {
  "kernelspec": {
   "display_name": "Python 3 (ipykernel)",
   "language": "python",
   "name": "python3"
  },
  "language_info": {
   "codemirror_mode": {
    "name": "ipython",
    "version": 3
   },
   "file_extension": ".py",
   "mimetype": "text/x-python",
   "name": "python",
   "nbconvert_exporter": "python",
   "pygments_lexer": "ipython3",
   "version": "3.10.13"
  }
 },
 "nbformat": 4,
 "nbformat_minor": 5
}
