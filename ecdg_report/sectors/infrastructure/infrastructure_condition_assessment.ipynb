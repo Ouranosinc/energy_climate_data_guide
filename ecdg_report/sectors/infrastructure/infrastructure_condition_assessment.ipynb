{
 "cells": [
  {
   "cell_type": "markdown",
   "id": "17af597b-f084-4c86-aac5-0d33f4088552",
   "metadata": {},
   "source": [
    "# Infrastructure Condition Assessment"
   ]
  }
 ],
 "metadata": {
  "kernelspec": {
   "display_name": "Python 3 (ipykernel)",
   "language": "python",
   "name": "python3"
  },
  "language_info": {
   "codemirror_mode": {
    "name": "ipython",
    "version": 3
   },
   "file_extension": ".py",
   "mimetype": "text/x-python",
   "name": "python",
   "nbconvert_exporter": "python",
   "pygments_lexer": "ipython3",
   "version": "3.10.13"
  }
 },
 "nbformat": 4,
 "nbformat_minor": 5
}
