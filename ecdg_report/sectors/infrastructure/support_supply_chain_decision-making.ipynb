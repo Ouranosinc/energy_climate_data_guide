{
 "cells": [
  {
   "cell_type": "markdown",
   "id": "204ba6fd-24d0-4924-8fec-ad557b9be5c9",
   "metadata": {},
   "source": [
    "# Support supply chain decision-making\n",
    "\n",
    "## Description\n",
    "Where surplus equipment should be located."
   ]
  },
  {
   "cell_type": "code",
   "execution_count": null,
   "id": "4f13599f-44ce-47d7-9449-b781f9de13b6",
   "metadata": {},
   "outputs": [],
   "source": []
  }
 ],
 "metadata": {
  "kernelspec": {
   "display_name": "Python 3 (ipykernel)",
   "language": "python",
   "name": "python3"
  },
  "language_info": {
   "codemirror_mode": {
    "name": "ipython",
    "version": 3
   },
   "file_extension": ".py",
   "mimetype": "text/x-python",
   "name": "python",
   "nbconvert_exporter": "python",
   "pygments_lexer": "ipython3",
   "version": "3.10.13"
  }
 },
 "nbformat": 4,
 "nbformat_minor": 5
}
