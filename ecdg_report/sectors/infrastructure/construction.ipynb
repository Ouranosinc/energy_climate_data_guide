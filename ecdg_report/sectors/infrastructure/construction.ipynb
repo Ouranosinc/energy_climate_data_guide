{
 "cells": [
  {
   "cell_type": "markdown",
   "id": "9f5a4973-d621-4d4e-95ad-a4070dfd5ea0",
   "metadata": {},
   "source": [
    "# Construction\n",
    "\n",
    "## Description\n",
    "Plan and construct various assets including hydropower facilities, transmission/distribution lines, electrical stations. Some special consideration may be required for remote locations and seasonality of the construction season. (MV note: This needs to be refined, just wanted to get something as a placeholder)\n"
   ]
  },
  {
   "cell_type": "code",
   "execution_count": null,
   "id": "9418adae-8771-4def-8013-01e1e74c5a6c",
   "metadata": {},
   "outputs": [],
   "source": []
  }
 ],
 "metadata": {
  "kernelspec": {
   "display_name": "Python 3 (ipykernel)",
   "language": "python",
   "name": "python3"
  },
  "language_info": {
   "codemirror_mode": {
    "name": "ipython",
    "version": 3
   },
   "file_extension": ".py",
   "mimetype": "text/x-python",
   "name": "python",
   "nbconvert_exporter": "python",
   "pygments_lexer": "ipython3",
   "version": "3.10.13"
  }
 },
 "nbformat": 4,
 "nbformat_minor": 5
}
