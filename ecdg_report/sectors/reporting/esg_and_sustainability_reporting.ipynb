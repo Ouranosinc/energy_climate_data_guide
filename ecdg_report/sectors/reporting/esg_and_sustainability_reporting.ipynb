{
 "cells": [
  {
   "cell_type": "markdown",
   "id": "77e5699f-cb4a-42d3-868f-ca81eb730839",
   "metadata": {},
   "source": [
    "# Environmental, Social & Governance (ESG), Sustainability and Financial Reporting\n",
    "\n",
    "## Description\n",
    "Reporting and financial disclosures are important accountability instruments for electrical utilities. These reports can be created for a variety of reasons. For example, Crown Corporations may be legal reporting requirements stemming from their empowering legal act, publicly registered and traded corporations must produce financial reports for shareholders and some companies produce voluntary reports to build their social license. There are many different forms climate change related reporting can take for electrical utilities including annual ESG Reports, Sustainability Reports, Climate Change Plans, Corporate Strategies or annual Financial Reports. \n",
    "\n",
    "The genesis of many climate related reports comes for the creation of the Task Force on Climate-related Financial Disclosures (TCFD) started by the Financial Stability Board (FSB) in 2015. The underlying driver for the creation of the TCFD was to provide financial markets \"clear, comprehensive, high-quality information on the impacts of cliamte change\". In this way investors, insurers and others in the financial sector could properly understand the risks and opportunities their investments were facing from both the physical impacts of climate changes but also from the climate transition related to policy, legal and market changes to combat climate change. The TCFD produced a recommendation report in 2017(@TCFD_Report) gaining widespread support. Having accomplished it's task, the TCFD was disbanded in 2023 and the monitoring and progress of climate related disclosures was assigned to the [IFRS Foundation](https://www.ifrs.org/sustainability/tcfd/). The International Sustainability Standards Board (ISSB) created two financial disclosure standards that incorporated the work of the TCFD. These are IFRS S1 _General Requirements fo Disclosure of Sustainability-related Financial Information_ and IFRS S2 _Climate-related Disclosures_. These are voluntary international standards that provide guidance on how companies should disclose among other things their climate related risks and adaptation strategies.\n",
    "\n",
    "The [Canadian Sustainability Standards Board (CSSB)](https://www.frascanada.ca/en/cssb) has released two Canadian Sustainability Disclosure Standards (CSDS) to provide guidance to Canadian companies on financial disclosures. CSDS 1 and CSDS 2 are very closely aligned with the international IFRS S1 and IFRS S2 voluntary reporting standards. These standards are also voluntary for publicly reporting companies until the Canadian Securities Administration (CSA) mandates climate related financial disclosures for Canadian companies. These standards do not apply to all utilities, where Crown Corporations in particular may have their own reporting requirements.\n",
    "\n",
    "Among the key requirements of these standards is the reporting of climate related risks that a electrical utility faces and where possible monitoring those risks and the treatment thereof with metrics and targets. This leads to transparent understanding of risks and progress to addressing those risks. This could include risks related to extreme events impacting infrastructure, climate related changes in generation and revenue profiles or changes in revenue resulting from climate-related impacts.\n",
    "\n",
    "## Climate Data Used\n",
    "Climate data is generally not directly or uniquely used ESG or Financial Reporting. These reports aggregate information from other electricity sector activities. For example, a report could disclose changes in generation revenue coming from [Generation Planning](../planning/generation_forecasting.ipynb) or risks to physical assets assessed during [infrastructure assessments](../planning/infrastructure_condition_assessment_and_investment_prioritization.ipynb) and further assessed in [enterprise risk management practices](./enterprise_risk_management.ipynb).\n",
    "\n",
    "## Gaps\n",
    "This practice remains relatively new to utilities. It was recognized by TCFD and subsequent standards that climate-related disclosures would be a journey that requires multiple iterations. Gaps and recommendations in key sections where climate data is used that contribute to these reports should be reviewed.\n",
    "\n",
    "## Recommendations\n",
    "_Not Applicable_\n",
    "\n",
    "## References\n",
    "\n",
    "::: {#refs}\n",
    ":::"
   ]
  }
 ],
 "metadata": {
  "kernelspec": {
   "display_name": "Python 3 (ipykernel)",
   "language": "python",
   "name": "python3"
  },
  "language_info": {
   "codemirror_mode": {
    "name": "ipython",
    "version": 3
   },
   "file_extension": ".py",
   "mimetype": "text/x-python",
   "name": "python",
   "nbconvert_exporter": "python",
   "pygments_lexer": "ipython3",
   "version": "3.10.13"
  }
 },
 "nbformat": 4,
 "nbformat_minor": 5
}
