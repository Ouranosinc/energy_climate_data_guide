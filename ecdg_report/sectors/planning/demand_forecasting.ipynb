{
 "cells": [
  {
   "cell_type": "markdown",
   "id": "9ddeeabb-5641-4e30-9334-dc6e16426a1d",
   "metadata": {},
   "source": [
    "# Demand\n",
    "\n",
    "\n",
    "[**Note:** The Demand section is Jongho's / McMaster's contribution and MB inserted it here. <br> [Demand Forecasting](#demand-forecasting) is below!]{.mark-green}"
   ]
  },
  {
   "cell_type": "markdown",
   "id": "263e0f86-a47c-4fcc-be71-685ec8fc96b6",
   "metadata": {},
   "source": [
    "Electricity demand is a vital component in the planning, operation, and resilience of power systems. Climate change is expected to alter electricity demand patterns by affecting not only patterns of temperature, such as mean temperature, number of temperature extremes, and seasonal variations, but also consumption behaviours across different sectors. Numerous studies project increased cooling demand during hotter summers and reduced heating demand during milder winters as this pattern have been consistently observed across multiple global regions ( @Amonkar2023, @Auffhammer2011, @Pilli-Sihvola2010, @Trotter2016, @Wood2015). The magnitude and direction of these changes are strongly dependent on the region and latitude; for example, countries in warmer climates are expected to see higher overall demand growth due to increased cooling loads (@Bonkaney2023, @Emodi2018, @Zachariadis2014). Climate change also affects electricity consumption by sector and temporal demand profiles, including daily and seasonal variations. The residential, commercial, and industrial sectors respond differently to climate drivers ( @Dirks2015, @Shaik2024, @Taseska2012). Meanwhile, the timing of electricity demand is shifting as well, with studies projecting changes in peak load hours and seasonal peaks due to rising temperatures and more frequent extreme heat events ( @Amonkar2023, @Fonseca2019, @Romitti2022). \n",
    "\n",
    "To assess the impacts of climate change on electricity demand, different approaches have been employed. These include the use of climate projections from GCM and RCM combined with downscaling techniques to capture local climatic variability ( @Auffhammer2017, @Auffhammer2011, @Fonseca2019, @Lipson2019, @Trotter2016). Empirical models, such as regression-bases analyses, have been also used to estimate historical relationships between temperature and electricity use ( @Bonkaney2023, @Emodi2018, @Pilli-Sihvola2010) , while simulation tools and energy-climate models are applied to explore future scenarios under different socio-economic and climatic conditions ( @Dirks2015, @Lipson2019, @Taseska2012).\n"
   ]
  },
  {
   "cell_type": "markdown",
   "id": "ab1443c6-7b25-4386-9522-cd7d62a4fd41",
   "metadata": {},
   "source": [
    "## Climate change drivers and affected electricity demand parameters\n",
    "### Seasonal variations\n",
    "Rising temperatures due to climate change have led to a significant in seasonal electricity demand, particularly by increasing cooling demand during summer and reducing heating needs during winter. This shifting trend has been widely documented across regional and global studies. For example, @Auffhammer2017 showed that electricity demand in the United States shows a strong nonlinear response to high temperatures, especially above 25-30 degC, driven mainly by demand for air conditioning. Similarly, @DeCian2019 also confirmed this global trend that there are steep increases in demand where air conditioning is rising due to climate change. Regional case studies, such as @Craig2020, have demonstrated that peak demand coincides more frequently with extreme heat days, stressing both power generation and distribution infrastructure. The anticipated rise in the frequency, intensity, and duration of heatwaves further amplifies this concerns, requiring investments in peak capacity, demand-side management, and adaptation strategies. @Taseska2012 projected increased summer cooling demand across European regions due to higher temperatures, while @Zachariadis2014 confirmed the similar rise in cooling demand in Cyprus. @Dirks2015 also found that seasonal peaks are shifting in the United States, with summer peaks becoming more dominant due to climate-induced changes in building energy use.\n",
    "\n",
    "However, while winters are projected to be warmer, the demand responses are more variable. @Romitti2022 introduced a classification of demand response profiles: a \"V\"-shaped response which is common in mid-latitude temperated cities, such as North America and Europe where demand increases at both high and low temperatures; increasing response where demand rises steadily with temperature, which can be shown in tropical cities; and unresponsive profile where minimal or no correlation between temperature and electricity demand. @Pilli-Sihvola2010 used multivariate regression in Europe to estimate electricity consumption changes and found that Northern and Central Europe will experience reduced heating demand in winter while Southern Europe will face increased cooling demand and higher costs in summer. This results in an increased annual electricity demand in Spain while it will decrease in Finland, Germany and France. @Wood2015 analyzed how climate change could flatten winter peaks while enhancing summer peaks in the United Kingdom, suggesting that infrastructure planning should shift from winter-dominant to summer-dominant strategies.\n",
    "\n",
    "### Regional variations: by continents, by latitudes\n",
    "The impacts of climate change on electricity demand show considerable regional heterogeneity, followed by geographic location, climatic baseline, economic development, and infrastructure characteristics. A clear latitudinal pattern exists: countries at lower latitude are projected to have higher increases in electricity demand for cooling, while higher latitude regions may observe mixed outcomes due to the opposing effects of warmer winters and hotter summers.\n",
    "\n",
    "In tropical regions, where average temperature are already high, even modest increases in temperature can trigger substantial rises in electricity use. @Bonkaney2023 found that rising temperatures will affect electricity demand for all warming levels due to increasing air conditioning needs, with low adaptive capacity exacerbating system stress in Niger. @Emodi2018 \n",
    "\n",
    "\n",
    "\n",
    "### Demand parameters\n",
    "- Annual demand: generation capacity and/or storage capacity\n",
    "- Size and timing of peak demand: maintenance and construction schedule, supply planning\n",
    "- Spatial distribution of demand: topology and capacity of the electricity transmission networks.\n",
    "- Sectors: ability to adapt or respond to climate change\n"
   ]
  },
  {
   "cell_type": "markdown",
   "id": "4bd2ecfc-8e83-4b20-927b-0e47178b955d",
   "metadata": {},
   "source": [
    "## Sectoral variations in demand\n",
    "- Differences in demand patterns by sectors, such as residential, industrial, and commercial.\n",
    "- Seasonal and hourly variations in demand and how these might evolve under climate change\n"
   ]
  },
  {
   "cell_type": "markdown",
   "id": "6caff65e-4ff0-46f7-9419-2d25520c85dc",
   "metadata": {},
   "source": [
    "\n",
    "## Methodologies for assessing climate change impacts\n",
    "- Climate data: GCMs, RCMs\n",
    "- Downscaling method: dynamic, statistical\n",
    "- Empirical methods: regression analysis\n",
    "- Simulation models: energy-climate models\n"
   ]
  },
  {
   "cell_type": "markdown",
   "id": "315303f4-acd6-4839-8b7f-06d61f92a480",
   "metadata": {},
   "source": [
    "\n",
    "## Adaptation strategies\n",
    "- How to adapt changing demand patterns caused by climate change.\n",
    "- Demand-side management, energy efficiency measures, grid flexibility.\n",
    "\n"
   ]
  },
  {
   "cell_type": "markdown",
   "id": "97395d1d-b386-4fe1-a7ef-1d6db174c894",
   "metadata": {},
   "source": [
    "## Demand Forecasting\n",
    "\n",
    "\n",
    "[**Note:** This section is the draft for demand forecasting!]{.mark-green}\n",
    "\n",
    "### Description\n",
    "Modelling daily, weekly and peak demands over short and long-term planning horizons (MV note: for MH, we typically have a separate load forecast for electrical energy, electrical peak, and natural gas volume... so we may want to capture that nuance).\n",
    "\n",
    "\n",
    "### Hydro\n",
    "lorem ipsum, bla, bla, and blah\n",
    "\n",
    "### Nuclear\n",
    "lorem ipsum, bla, bla, and blah\n",
    "\n",
    "### Solar\n",
    "lorem ipsum, bla, bla, and blah\n",
    "\n",
    "### Thermal\n",
    "lorem ipsum, bla, bla, and blah\n",
    "\n",
    "### Wind\n",
    "lorem ipsum, bla, bla, and blah"
   ]
  }
 ],
 "metadata": {
  "kernelspec": {
   "display_name": "Python 3 (ipykernel)",
   "language": "python",
   "name": "python3"
  },
  "language_info": {
   "codemirror_mode": {
    "name": "ipython",
    "version": 3
   },
   "file_extension": ".py",
   "mimetype": "text/x-python",
   "name": "python",
   "nbconvert_exporter": "python",
   "pygments_lexer": "ipython3",
   "version": "3.10.13"
  }
 },
 "nbformat": 4,
 "nbformat_minor": 5
}
