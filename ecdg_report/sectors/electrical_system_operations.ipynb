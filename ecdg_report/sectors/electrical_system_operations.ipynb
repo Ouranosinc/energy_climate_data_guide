{
 "cells": [
  {
   "cell_type": "markdown",
   "id": "9f5a4973-d621-4d4e-95ad-a4070dfd5ea0",
   "metadata": {},
   "source": [
    "# Electrical System Operations\n",
    "\n",
    "## Description\n",
    "Operate the electrical system in real-time to manage several factors including load, generation, exports, imports, line losses, equipment ratings, and contingencies. (MV note: This needs to be refined, just wanted to get something as a placeholder)\n"
   ]
  },
  {
   "cell_type": "code",
   "execution_count": null,
   "id": "ba5b6a77-49c8-4f16-9a8b-32465a317879",
   "metadata": {},
   "outputs": [],
   "source": []
  }
 ],
 "metadata": {
  "kernelspec": {
   "display_name": "Python 3 (ipykernel)",
   "language": "python",
   "name": "python3"
  },
  "language_info": {
   "codemirror_mode": {
    "name": "ipython",
    "version": 3
   },
   "file_extension": ".py",
   "mimetype": "text/x-python",
   "name": "python",
   "nbconvert_exporter": "python",
   "pygments_lexer": "ipython3",
   "version": "3.10.13"
  }
 },
 "nbformat": 4,
 "nbformat_minor": 5
}
