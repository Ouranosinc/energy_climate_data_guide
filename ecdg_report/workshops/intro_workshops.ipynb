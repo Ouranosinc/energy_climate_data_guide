{
 "cells": [
  {
   "cell_type": "markdown",
   "id": "9c15a207",
   "metadata": {},
   "source": [
    "# Workshops"
   ]
  },
  {
   "cell_type": "markdown",
   "id": "f84b6133",
   "metadata": {},
   "source": [
    "To develop this online guidance on the use of climate data in the energy sector, a series of workshops were conducted with Canadian energy organizations. These workshops aimed to gain deeper insight into how climate information is applied in real-world decision-making. The insights gathered are integrated throughout the guidance, with illustrative examples of applications provided across various [energy sectors](../sectors/electricity_sector_activities.ipynb)."
   ]
  },
  {
   "cell_type": "markdown",
   "id": "a26eb79c",
   "metadata": {},
   "source": [
    "### Goals\n",
    " - Better understand how climate information is used in the Canadian electrical industry\n",
    " - Identify missing information (ex: climate variables or tools) in the decision-making process that relies on climate information\n",
    " - Funnel approach: starting with describing a decision-making challenge and moving toward more technical (ex: temporal and spatial scales of the datasets used)"
   ]
  },
  {
   "cell_type": "markdown",
   "id": "742aea9c",
   "metadata": {},
   "source": [
    "### Overview of the workshops section"
   ]
  },
  {
   "cell_type": "markdown",
   "id": "3a69e93a",
   "metadata": {},
   "source": [
    "- **[Content and participation](content_particip.ipynb)**<br/>\n",
    "Present the content of the workshops as well as participation by organization and sector\n",
    "\n",
    "- **[Findings](findings.ipynb)**<br/>\n",
    "General findings of the workshops such as flow of climate information in organziation and what's missing for climate data usage in practice\n"
   ]
  },
  {
   "cell_type": "markdown",
   "id": "1abecd38",
   "metadata": {},
   "source": [
    "<div style=\"text-align: center;\">\n",
    "<img src=\"ieso.jpg\" alt=\"Workshop\" width=\"800\">\n",
    "</div>"
   ]
  },
  {
   "cell_type": "markdown",
   "id": "d115d8c9",
   "metadata": {},
   "source": []
  }
 ],
 "metadata": {
  "kernelspec": {
   "display_name": "quarto",
   "language": "python",
   "name": "python3"
  },
  "language_info": {
   "name": "python",
   "version": "3.12.11"
  }
 },
 "nbformat": 4,
 "nbformat_minor": 5
}
