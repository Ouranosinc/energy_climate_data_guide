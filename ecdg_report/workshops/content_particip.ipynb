{
 "cells": [
  {
   "cell_type": "markdown",
   "id": "17ec1312",
   "metadata": {},
   "source": [
    "# Worshop contents and Participation\n"
   ]
  },
  {
   "cell_type": "markdown",
   "id": "c841b221",
   "metadata": {},
   "source": [
    "### Workshops content\n",
    "The workshops were structured using a funnel approach—beginning with broad discussions in which participants identified decision-making challenges in their work that involve the use of climate information. These initial conversations were followed by more targeted, technical questions, such as the spatial and temporal scales of the climate data they rely on.\n",
    "\n",
    "Participants typically worked in small teams of two to five people. However, in some cases—particularly during online sessions—participants completed the exercises individually.\n",
    "\n",
    "The slide deck below outlines the key questions explored during the workshops."
   ]
  },
  {
   "cell_type": "markdown",
   "id": "a4510936",
   "metadata": {},
   "source": [
    "\n",
    "<iframe src=\"https://docs.google.com/presentation/d/e/2PACX-1vQlMhRPEllw9LcPFbFVnmUtJEGMnok12aGlkKGsv9K8CExHbI1bS8n6XJZOHEV9-NM_aN79izoWNtAL/pubembed?start=false&loop=false&delayms=5000\" frameborder=\"0\" width=\"960\" height=\"450\" allowfullscreen=\"false\" mozallowfullscreen=\"false\" webkitallowfullscreen=\"false\"></iframe>"
   ]
  },
  {
   "cell_type": "markdown",
   "id": "125c618f",
   "metadata": {},
   "source": [
    "### Participation\n",
    "\n",
    "The table below shows the number of workshops held at each organization and the number of participants involved.\n",
    "\n",
    "In total, five organizations took part in the eleven workshops, representing 21 different utilities and engaging over 120 participants. From these sessions, 73 distinct case studies were collected to inform and populate the guidance."
   ]
  },
  {
   "cell_type": "code",
   "execution_count": 4,
   "id": "4c17baf5",
   "metadata": {},
   "outputs": [
    {
     "data": {
      "text/html": [
       "<style type=\"text/css\">\n",
       "</style>\n",
       "<table id=\"T_f4fcd\">\n",
       "  <thead>\n",
       "    <tr>\n",
       "      <th id=\"T_f4fcd_level0_col0\" class=\"col_heading level0 col0\" >Organization</th>\n",
       "      <th id=\"T_f4fcd_level0_col1\" class=\"col_heading level0 col1\" >Number of workshops</th>\n",
       "      <th id=\"T_f4fcd_level0_col2\" class=\"col_heading level0 col2\" >Number of participitants</th>\n",
       "    </tr>\n",
       "  </thead>\n",
       "  <tbody>\n",
       "    <tr>\n",
       "      <td id=\"T_f4fcd_row0_col0\" class=\"data row0 col0\" >Ontario Power Generation</td>\n",
       "      <td id=\"T_f4fcd_row0_col1\" class=\"data row0 col1\" >3</td>\n",
       "      <td id=\"T_f4fcd_row0_col2\" class=\"data row0 col2\" >22</td>\n",
       "    </tr>\n",
       "    <tr>\n",
       "      <td id=\"T_f4fcd_row1_col0\" class=\"data row1 col0\" >Hydro-Québec</td>\n",
       "      <td id=\"T_f4fcd_row1_col1\" class=\"data row1 col1\" >2</td>\n",
       "      <td id=\"T_f4fcd_row1_col2\" class=\"data row1 col2\" >21</td>\n",
       "    </tr>\n",
       "    <tr>\n",
       "      <td id=\"T_f4fcd_row2_col0\" class=\"data row2 col0\" >Hydro One</td>\n",
       "      <td id=\"T_f4fcd_row2_col1\" class=\"data row2 col1\" >1</td>\n",
       "      <td id=\"T_f4fcd_row2_col2\" class=\"data row2 col2\" >8</td>\n",
       "    </tr>\n",
       "    <tr>\n",
       "      <td id=\"T_f4fcd_row3_col0\" class=\"data row3 col0\" >Manitoba Hydro</td>\n",
       "      <td id=\"T_f4fcd_row3_col1\" class=\"data row3 col1\" >2</td>\n",
       "      <td id=\"T_f4fcd_row3_col2\" class=\"data row3 col2\" >24</td>\n",
       "    </tr>\n",
       "    <tr>\n",
       "      <td id=\"T_f4fcd_row4_col0\" class=\"data row4 col0\" >Independent Electricity System Operator</td>\n",
       "      <td id=\"T_f4fcd_row4_col1\" class=\"data row4 col1\" >3</td>\n",
       "      <td id=\"T_f4fcd_row4_col2\" class=\"data row4 col2\" >51</td>\n",
       "    </tr>\n",
       "    <tr>\n",
       "      <td id=\"T_f4fcd_row5_col0\" class=\"data row5 col0\" >Total</td>\n",
       "      <td id=\"T_f4fcd_row5_col1\" class=\"data row5 col1\" >11</td>\n",
       "      <td id=\"T_f4fcd_row5_col2\" class=\"data row5 col2\" >126</td>\n",
       "    </tr>\n",
       "  </tbody>\n",
       "</table>\n"
      ],
      "text/plain": [
       "<pandas.io.formats.style.Styler at 0x1e854f5df70>"
      ]
     },
     "execution_count": 4,
     "metadata": {},
     "output_type": "execute_result"
    }
   ],
   "source": [
    "#| echo: false\n",
    "\n",
    "import pandas as pd\n",
    "\n",
    "df = pd.DataFrame(\n",
    "    data={\n",
    "        'Organization': ['Ontario Power Generation', 'Hydro-Québec', 'Hydro One', 'Manitoba Hydro', 'Independent Electricity System Operator', 'Total'],\n",
    "        'Number of workshops': [3, 2, 1, 2, 3, 11],\n",
    "        'Number of participitants': [22, 21, 8, 24, 51, 126]\n",
    "    }\n",
    ")\n",
    "df.style.hide()"
   ]
  },
  {
   "cell_type": "markdown",
   "id": "ec15379c",
   "metadata": {},
   "source": [
    "A survey sent to workshop attendees indicated that participants were generally satisfied with the sessions, which encouraged reflection on the quality and uncertainties of climate data. However, many expressed a desire for more concrete examples demonstrating how to apply climate data in the energy sector."
   ]
  }
 ],
 "metadata": {
  "kernelspec": {
   "display_name": "Python 3 (ipykernel)",
   "language": "python",
   "name": "python3"
  },
  "language_info": {
   "codemirror_mode": {
    "name": "ipython",
    "version": 3
   },
   "file_extension": ".py",
   "mimetype": "text/x-python",
   "name": "python",
   "nbconvert_exporter": "python",
   "pygments_lexer": "ipython3",
   "version": "3.9.13"
  }
 },
 "nbformat": 4,
 "nbformat_minor": 5
}
