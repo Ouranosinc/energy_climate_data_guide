{
 "cells": [
  {
   "cell_type": "markdown",
   "id": "acfde703-49d7-4b2a-9d30-b437ccd5afdb",
   "metadata": {},
   "source": [
    "# Decision Making Under Deep Uncertainty (DMDU)\n",
    "\n",
    "This section discusses the integration of DMDU approaches into the use of climate data to address the implicit uncertainty associated with such data."
   ]
  },
  {
   "cell_type": "markdown",
   "id": "3e9c717b-80bf-4828-baaa-efd6f783ecfd",
   "metadata": {},
   "source": []
  },
  {
   "cell_type": "code",
   "execution_count": null,
   "id": "841b6145-3c6e-4a2c-9b15-dfabe4fd5dc2",
   "metadata": {},
   "outputs": [],
   "source": []
  }
 ],
 "metadata": {
  "kernelspec": {
   "display_name": "Python 3 (ipykernel)",
   "language": "python",
   "name": "python3"
  },
  "language_info": {
   "codemirror_mode": {
    "name": "ipython",
    "version": 3
   },
   "file_extension": ".py",
   "mimetype": "text/x-python",
   "name": "python",
   "nbconvert_exporter": "python",
   "pygments_lexer": "ipython3",
   "version": "3.10.13"
  }
 },
 "nbformat": 4,
 "nbformat_minor": 5
}
