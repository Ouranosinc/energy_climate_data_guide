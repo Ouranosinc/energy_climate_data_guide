{
 "cells": [
  {
   "cell_type": "markdown",
   "id": "2e12c5d2-6df5-4f15-8266-eaffde53bd05",
   "metadata": {},
   "source": [
    "### Introduction\n",
    "\n",
    "This is the amazing introduction to our report on everything 'climate data' regarding their use in the electricity sector.\n",
    "\n",
    "It goes like this:"
   ]
  },
  {
   "cell_type": "raw",
   "id": "be6ba39c-ad80-47d7-af4a-6f50b296b02f",
   "metadata": {},
   "source": [
    "```{mermaid}\n",
    "flowchart LR\n",
    "  A[What data are out there] --> B(An Inventory)\n",
    "  B --> C{Interviewswith\\nEnergy Sector\\nChampions}\n",
    "  C --> D[Best practices]\n",
    "  C --> E[Gap analysis]\n",
    "```"
   ]
  },
  {
   "cell_type": "markdown",
   "id": "f84637c8-623c-497c-8ce1-cd774044d54f",
   "metadata": {},
   "source": [
    "{{< video https://www.youtube.com/watch?v=KrWZmIQxUz8 >}}"
   ]
  },
  {
   "cell_type": "code",
   "execution_count": null,
   "id": "9a2fdb82-7f34-4ec4-9a80-d72f14144854",
   "metadata": {},
   "outputs": [],
   "source": []
  }
 ],
 "metadata": {
  "kernelspec": {
   "display_name": "obsflow",
   "language": "python",
   "name": "obsflow"
  },
  "language_info": {
   "codemirror_mode": {
    "name": "ipython",
    "version": 3
   },
   "file_extension": ".py",
   "mimetype": "text/x-python",
   "name": "python",
   "nbconvert_exporter": "python",
   "pygments_lexer": "ipython3",
   "version": "3.10.13"
  }
 },
 "nbformat": 4,
 "nbformat_minor": 5
}
